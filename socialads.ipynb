{
 "cells": [
  {
   "cell_type": "markdown",
   "id": "4cae2afe-a139-493f-ac38-1a8ca299be94",
   "metadata": {},
   "source": [
    "## costumer buy behavior"
   ]
  },
  {
   "cell_type": "code",
   "execution_count": 2,
   "id": "4762683c-d35b-4c73-b2e3-4be222f7060b",
   "metadata": {
    "tags": []
   },
   "outputs": [],
   "source": [
    "import numpy as np\n",
    "import pandas as pd\n",
    "import matplotlib.pyplot as plt"
   ]
  },
  {
   "cell_type": "code",
   "execution_count": 4,
   "id": "f5610ec3-42aa-47bb-a801-14eb049d685d",
   "metadata": {
    "tags": []
   },
   "outputs": [],
   "source": [
    "database=pd.read_csv(\"social_ads.csv\")"
   ]
  },
  {
   "cell_type": "code",
   "execution_count": 6,
   "id": "10cc14ae-9acc-41d1-8886-6656549ed552",
   "metadata": {
    "tags": []
   },
   "outputs": [
    {
     "data": {
      "text/html": [
       "<div>\n",
       "<style scoped>\n",
       "    .dataframe tbody tr th:only-of-type {\n",
       "        vertical-align: middle;\n",
       "    }\n",
       "\n",
       "    .dataframe tbody tr th {\n",
       "        vertical-align: top;\n",
       "    }\n",
       "\n",
       "    .dataframe thead th {\n",
       "        text-align: right;\n",
       "    }\n",
       "</style>\n",
       "<table border=\"1\" class=\"dataframe\">\n",
       "  <thead>\n",
       "    <tr style=\"text-align: right;\">\n",
       "      <th></th>\n",
       "      <th>Age</th>\n",
       "      <th>EstimatedSalary</th>\n",
       "      <th>Purchased</th>\n",
       "    </tr>\n",
       "  </thead>\n",
       "  <tbody>\n",
       "    <tr>\n",
       "      <th>0</th>\n",
       "      <td>19</td>\n",
       "      <td>19000</td>\n",
       "      <td>0</td>\n",
       "    </tr>\n",
       "    <tr>\n",
       "      <th>1</th>\n",
       "      <td>35</td>\n",
       "      <td>20000</td>\n",
       "      <td>0</td>\n",
       "    </tr>\n",
       "    <tr>\n",
       "      <th>2</th>\n",
       "      <td>26</td>\n",
       "      <td>43000</td>\n",
       "      <td>0</td>\n",
       "    </tr>\n",
       "    <tr>\n",
       "      <th>3</th>\n",
       "      <td>27</td>\n",
       "      <td>57000</td>\n",
       "      <td>0</td>\n",
       "    </tr>\n",
       "    <tr>\n",
       "      <th>4</th>\n",
       "      <td>19</td>\n",
       "      <td>76000</td>\n",
       "      <td>0</td>\n",
       "    </tr>\n",
       "  </tbody>\n",
       "</table>\n",
       "</div>"
      ],
      "text/plain": [
       "   Age  EstimatedSalary  Purchased\n",
       "0   19            19000          0\n",
       "1   35            20000          0\n",
       "2   26            43000          0\n",
       "3   27            57000          0\n",
       "4   19            76000          0"
      ]
     },
     "execution_count": 6,
     "metadata": {},
     "output_type": "execute_result"
    }
   ],
   "source": [
    "database.head()"
   ]
  },
  {
   "cell_type": "code",
   "execution_count": 8,
   "id": "abce91ea-0feb-4a1a-9173-6257c827fc68",
   "metadata": {
    "tags": []
   },
   "outputs": [
    {
     "name": "stdout",
     "output_type": "stream",
     "text": [
      "<class 'pandas.core.frame.DataFrame'>\n",
      "RangeIndex: 400 entries, 0 to 399\n",
      "Data columns (total 3 columns):\n",
      " #   Column           Non-Null Count  Dtype\n",
      "---  ------           --------------  -----\n",
      " 0   Age              400 non-null    int64\n",
      " 1   EstimatedSalary  400 non-null    int64\n",
      " 2   Purchased        400 non-null    int64\n",
      "dtypes: int64(3)\n",
      "memory usage: 9.5 KB\n"
     ]
    }
   ],
   "source": [
    "database.info()"
   ]
  },
  {
   "cell_type": "code",
   "execution_count": 10,
   "id": "4be70f07-b79c-47e3-81ce-afd10df46b0a",
   "metadata": {
    "tags": []
   },
   "outputs": [],
   "source": [
    "X=database.iloc[:,:-1].values\n",
    "y=database.iloc[:,-1].values"
   ]
  },
  {
   "cell_type": "code",
   "execution_count": 13,
   "id": "a03635c3-a850-411f-a669-1f466d5babd8",
   "metadata": {
    "tags": []
   },
   "outputs": [],
   "source": [
    "from sklearn.model_selection import train_test_split"
   ]
  },
  {
   "cell_type": "code",
   "execution_count": 15,
   "id": "e0beefa5-2514-4a09-a14d-9a0e19c6ba67",
   "metadata": {
    "tags": []
   },
   "outputs": [],
   "source": [
    "X_train, X_test, y_train, y_test=train_test_split(X,y,random_state=0,test_size=0.2)"
   ]
  },
  {
   "cell_type": "code",
   "execution_count": 18,
   "id": "ab2341a1-96f1-4c14-8070-fbdee21957a1",
   "metadata": {
    "tags": []
   },
   "outputs": [],
   "source": [
    "from sklearn.preprocessing import StandardScaler\n",
    "stdscal=StandardScaler()"
   ]
  },
  {
   "cell_type": "code",
   "execution_count": 22,
   "id": "e7629deb-f336-45c7-afc2-222ae30c18f6",
   "metadata": {
    "tags": []
   },
   "outputs": [],
   "source": [
    "X_train=stdscal.fit_transform(X_train)\n",
    "X_test=stdscal.transform(X_test)"
   ]
  },
  {
   "cell_type": "code",
   "execution_count": 24,
   "id": "fb445bcc-051a-4e7d-a7ce-0af7b7b7058a",
   "metadata": {
    "tags": []
   },
   "outputs": [
    {
     "data": {
      "text/plain": [
       "array([[-7.98950822e-01,  4.94607583e-01],\n",
       "       [-2.12648508e-02, -5.77359062e-01],\n",
       "       [-3.12897090e-01,  1.46942725e-01],\n",
       "       [-7.98950822e-01,  2.62831011e-01],\n",
       "       [-3.12897090e-01, -5.77359062e-01],\n",
       "       [-1.09058306e+00, -1.44652121e+00],\n",
       "       [-7.01740076e-01, -1.59138156e+00],\n",
       "       [-2.15686344e-01,  2.14601566e+00],\n",
       "       [-1.96547978e+00, -5.58617754e-02],\n",
       "       [ 8.53631867e-01, -7.80163563e-01],\n",
       "       [-7.98950822e-01, -6.06331134e-01],\n",
       "       [-9.93372315e-01, -4.32498705e-01],\n",
       "       [-1.18475597e-01, -4.32498705e-01],\n",
       "       [ 7.59458956e-02,  2.04886868e-01],\n",
       "       [-1.77105829e+00,  4.65635512e-01],\n",
       "       [-6.04529329e-01,  1.36376973e+00],\n",
       "       [-1.18475597e-01,  2.04886868e-01],\n",
       "       [-1.86826903e+00,  4.36663440e-01],\n",
       "       [ 1.63131784e+00,  1.74040666e+00],\n",
       "       [-3.12897090e-01, -1.38857706e+00],\n",
       "       [-3.12897090e-01, -6.64275277e-01],\n",
       "       [ 8.53631867e-01,  2.14601566e+00],\n",
       "       [ 2.70367388e-01, -5.48386991e-01],\n",
       "       [ 8.53631867e-01,  1.01610487e+00],\n",
       "       [-1.47942605e+00, -1.21474464e+00],\n",
       "       [ 1.04805336e+00,  2.05909944e+00],\n",
       "       [-9.93372315e-01,  4.94607583e-01],\n",
       "       [-8.96161568e-01,  2.91803083e-01],\n",
       "       [-1.18475597e-01, -2.29694204e-01],\n",
       "       [-6.04529329e-01,  4.65635512e-01],\n",
       "       [-1.67384754e+00,  5.23579655e-01],\n",
       "       [-1.18475597e-01,  2.62831011e-01],\n",
       "       [ 1.82573933e+00, -2.87638347e-01],\n",
       "       [-1.18475597e-01, -4.90442848e-01],\n",
       "       [-1.38221530e+00, -3.45582490e-01],\n",
       "       [-1.96547978e+00, -5.19414919e-01],\n",
       "       [-1.57663679e+00,  3.20775154e-01],\n",
       "       [-4.10107836e-01, -7.80163563e-01],\n",
       "       [-7.01740076e-01, -1.04091221e+00],\n",
       "       [ 1.04805336e+00, -9.82968063e-01],\n",
       "       [-1.09058306e+00,  5.23579655e-01],\n",
       "       [ 2.70367388e-01, -5.19414919e-01],\n",
       "       [-1.09058306e+00,  4.07691369e-01],\n",
       "       [-3.12897090e-01, -1.44652121e+00],\n",
       "       [ 4.64788881e-01,  1.21890937e+00],\n",
       "       [-1.09058306e+00, -3.45582490e-01],\n",
       "       [-1.18475597e-01,  2.91803083e-01],\n",
       "       [ 1.33968560e+00,  5.81523798e-01],\n",
       "       [-1.18779381e+00, -1.15680049e+00],\n",
       "       [ 1.04805336e+00,  4.65635512e-01],\n",
       "       [ 1.82573933e+00,  1.50863009e+00],\n",
       "       [-4.10107836e-01, -1.30166085e+00],\n",
       "       [-3.12897090e-01, -3.74554562e-01],\n",
       "       [-4.10107836e-01,  1.30582558e+00],\n",
       "       [ 2.02016082e+00,  5.23579655e-01],\n",
       "       [ 6.59210374e-01, -1.09885635e+00],\n",
       "       [-8.96161568e-01,  3.78719297e-01],\n",
       "       [-1.18779381e+00,  2.91803083e-01],\n",
       "       [ 1.04805336e+00, -1.21474464e+00],\n",
       "       [-1.47942605e+00, -1.44652121e+00],\n",
       "       [-6.04529329e-01, -1.50446535e+00],\n",
       "       [ 2.11737157e+00, -8.09135634e-01],\n",
       "       [-1.86826903e+00,  1.75914797e-01],\n",
       "       [-2.15686344e-01,  8.42272441e-01],\n",
       "       [-1.86826903e+00, -1.27268878e+00],\n",
       "       [ 2.11737157e+00,  3.78719297e-01],\n",
       "       [-1.38221530e+00,  5.52551726e-01],\n",
       "       [-1.09058306e+00, -3.45582490e-01],\n",
       "       [ 1.73156642e-01, -6.64275277e-01],\n",
       "       [ 3.67578135e-01,  2.08236764e-03],\n",
       "       [-6.04529329e-01,  2.31984809e+00],\n",
       "       [-3.12897090e-01,  2.04886868e-01],\n",
       "       [-1.57663679e+00, -2.00722133e-01],\n",
       "       [ 6.59210374e-01, -1.38857706e+00],\n",
       "       [-1.09058306e+00,  5.52551726e-01],\n",
       "       [-1.96547978e+00,  3.49747226e-01],\n",
       "       [ 3.67578135e-01,  2.62831011e-01],\n",
       "       [ 1.73156642e-01, -2.87638347e-01],\n",
       "       [ 1.43689635e+00, -1.04091221e+00],\n",
       "       [ 8.53631867e-01,  1.07404901e+00]])"
      ]
     },
     "execution_count": 24,
     "metadata": {},
     "output_type": "execute_result"
    }
   ],
   "source": [
    "X_test"
   ]
  },
  {
   "cell_type": "code",
   "execution_count": 29,
   "id": "d64ee8ec-1c9b-4c84-9cc4-acc45ab3fd65",
   "metadata": {
    "tags": []
   },
   "outputs": [],
   "source": [
    "from sklearn.ensemble import RandomForestClassifier"
   ]
  },
  {
   "cell_type": "code",
   "execution_count": 31,
   "id": "08cd86c4-e8f5-46e7-b25c-f72a73dbec49",
   "metadata": {
    "tags": []
   },
   "outputs": [],
   "source": [
    "rfc=RandomForestClassifier()"
   ]
  },
  {
   "cell_type": "code",
   "execution_count": 33,
   "id": "8ef3b35a-7284-43e3-a638-519729306a12",
   "metadata": {
    "tags": []
   },
   "outputs": [
    {
     "data": {
      "text/html": [
       "<style>#sk-container-id-1 {color: black;background-color: white;}#sk-container-id-1 pre{padding: 0;}#sk-container-id-1 div.sk-toggleable {background-color: white;}#sk-container-id-1 label.sk-toggleable__label {cursor: pointer;display: block;width: 100%;margin-bottom: 0;padding: 0.3em;box-sizing: border-box;text-align: center;}#sk-container-id-1 label.sk-toggleable__label-arrow:before {content: \"▸\";float: left;margin-right: 0.25em;color: #696969;}#sk-container-id-1 label.sk-toggleable__label-arrow:hover:before {color: black;}#sk-container-id-1 div.sk-estimator:hover label.sk-toggleable__label-arrow:before {color: black;}#sk-container-id-1 div.sk-toggleable__content {max-height: 0;max-width: 0;overflow: hidden;text-align: left;background-color: #f0f8ff;}#sk-container-id-1 div.sk-toggleable__content pre {margin: 0.2em;color: black;border-radius: 0.25em;background-color: #f0f8ff;}#sk-container-id-1 input.sk-toggleable__control:checked~div.sk-toggleable__content {max-height: 200px;max-width: 100%;overflow: auto;}#sk-container-id-1 input.sk-toggleable__control:checked~label.sk-toggleable__label-arrow:before {content: \"▾\";}#sk-container-id-1 div.sk-estimator input.sk-toggleable__control:checked~label.sk-toggleable__label {background-color: #d4ebff;}#sk-container-id-1 div.sk-label input.sk-toggleable__control:checked~label.sk-toggleable__label {background-color: #d4ebff;}#sk-container-id-1 input.sk-hidden--visually {border: 0;clip: rect(1px 1px 1px 1px);clip: rect(1px, 1px, 1px, 1px);height: 1px;margin: -1px;overflow: hidden;padding: 0;position: absolute;width: 1px;}#sk-container-id-1 div.sk-estimator {font-family: monospace;background-color: #f0f8ff;border: 1px dotted black;border-radius: 0.25em;box-sizing: border-box;margin-bottom: 0.5em;}#sk-container-id-1 div.sk-estimator:hover {background-color: #d4ebff;}#sk-container-id-1 div.sk-parallel-item::after {content: \"\";width: 100%;border-bottom: 1px solid gray;flex-grow: 1;}#sk-container-id-1 div.sk-label:hover label.sk-toggleable__label {background-color: #d4ebff;}#sk-container-id-1 div.sk-serial::before {content: \"\";position: absolute;border-left: 1px solid gray;box-sizing: border-box;top: 0;bottom: 0;left: 50%;z-index: 0;}#sk-container-id-1 div.sk-serial {display: flex;flex-direction: column;align-items: center;background-color: white;padding-right: 0.2em;padding-left: 0.2em;position: relative;}#sk-container-id-1 div.sk-item {position: relative;z-index: 1;}#sk-container-id-1 div.sk-parallel {display: flex;align-items: stretch;justify-content: center;background-color: white;position: relative;}#sk-container-id-1 div.sk-item::before, #sk-container-id-1 div.sk-parallel-item::before {content: \"\";position: absolute;border-left: 1px solid gray;box-sizing: border-box;top: 0;bottom: 0;left: 50%;z-index: -1;}#sk-container-id-1 div.sk-parallel-item {display: flex;flex-direction: column;z-index: 1;position: relative;background-color: white;}#sk-container-id-1 div.sk-parallel-item:first-child::after {align-self: flex-end;width: 50%;}#sk-container-id-1 div.sk-parallel-item:last-child::after {align-self: flex-start;width: 50%;}#sk-container-id-1 div.sk-parallel-item:only-child::after {width: 0;}#sk-container-id-1 div.sk-dashed-wrapped {border: 1px dashed gray;margin: 0 0.4em 0.5em 0.4em;box-sizing: border-box;padding-bottom: 0.4em;background-color: white;}#sk-container-id-1 div.sk-label label {font-family: monospace;font-weight: bold;display: inline-block;line-height: 1.2em;}#sk-container-id-1 div.sk-label-container {text-align: center;}#sk-container-id-1 div.sk-container {/* jupyter's `normalize.less` sets `[hidden] { display: none; }` but bootstrap.min.css set `[hidden] { display: none !important; }` so we also need the `!important` here to be able to override the default hidden behavior on the sphinx rendered scikit-learn.org. See: https://github.com/scikit-learn/scikit-learn/issues/21755 */display: inline-block !important;position: relative;}#sk-container-id-1 div.sk-text-repr-fallback {display: none;}</style><div id=\"sk-container-id-1\" class=\"sk-top-container\"><div class=\"sk-text-repr-fallback\"><pre>RandomForestClassifier()</pre><b>In a Jupyter environment, please rerun this cell to show the HTML representation or trust the notebook. <br />On GitHub, the HTML representation is unable to render, please try loading this page with nbviewer.org.</b></div><div class=\"sk-container\" hidden><div class=\"sk-item\"><div class=\"sk-estimator sk-toggleable\"><input class=\"sk-toggleable__control sk-hidden--visually\" id=\"sk-estimator-id-1\" type=\"checkbox\" checked><label for=\"sk-estimator-id-1\" class=\"sk-toggleable__label sk-toggleable__label-arrow\">RandomForestClassifier</label><div class=\"sk-toggleable__content\"><pre>RandomForestClassifier()</pre></div></div></div></div></div>"
      ],
      "text/plain": [
       "RandomForestClassifier()"
      ]
     },
     "execution_count": 33,
     "metadata": {},
     "output_type": "execute_result"
    }
   ],
   "source": [
    "rfc.fit(X_train,y_train)"
   ]
  },
  {
   "cell_type": "code",
   "execution_count": 35,
   "id": "66cc1b67-7478-4063-a24c-9cd365eaf164",
   "metadata": {
    "tags": []
   },
   "outputs": [],
   "source": [
    "y_pred=rfc.predict(X_test)"
   ]
  },
  {
   "cell_type": "code",
   "execution_count": 39,
   "id": "35e118b5-79c9-45e0-90b2-95743cf477d6",
   "metadata": {
    "tags": []
   },
   "outputs": [],
   "source": [
    "from sklearn.metrics import accuracy_score,classification_report,confusion_matrix"
   ]
  },
  {
   "cell_type": "code",
   "execution_count": 42,
   "id": "1e8282aa-761f-4d7e-a638-2fec75510e68",
   "metadata": {
    "tags": []
   },
   "outputs": [
    {
     "data": {
      "text/plain": [
       "0.9125"
      ]
     },
     "execution_count": 42,
     "metadata": {},
     "output_type": "execute_result"
    }
   ],
   "source": [
    "accuracy=accuracy_score(y_test,y_pred)\n",
    "accuracy"
   ]
  },
  {
   "cell_type": "code",
   "execution_count": 45,
   "id": "c4a395a3-4404-49bf-b719-d50f182fcb73",
   "metadata": {
    "tags": []
   },
   "outputs": [
    {
     "data": {
      "text/plain": [
       "array([[53,  5],\n",
       "       [ 2, 20]], dtype=int64)"
      ]
     },
     "execution_count": 45,
     "metadata": {},
     "output_type": "execute_result"
    }
   ],
   "source": [
    "cm=confusion_matrix(y_test,y_pred)\n",
    "cm"
   ]
  },
  {
   "cell_type": "code",
   "execution_count": 48,
   "id": "ae38669e-0721-4305-b020-746a21b33069",
   "metadata": {
    "tags": []
   },
   "outputs": [],
   "source": [
    "report=classification_report(y_test,y_pred)"
   ]
  },
  {
   "cell_type": "code",
   "execution_count": 50,
   "id": "357b705c-adb7-4241-8de3-3298eff0633c",
   "metadata": {
    "tags": []
   },
   "outputs": [
    {
     "name": "stdout",
     "output_type": "stream",
     "text": [
      "              precision    recall  f1-score   support\n",
      "\n",
      "           0       0.96      0.91      0.94        58\n",
      "           1       0.80      0.91      0.85        22\n",
      "\n",
      "    accuracy                           0.91        80\n",
      "   macro avg       0.88      0.91      0.89        80\n",
      "weighted avg       0.92      0.91      0.91        80\n",
      "\n"
     ]
    }
   ],
   "source": [
    "print(report)"
   ]
  },
  {
   "cell_type": "code",
   "execution_count": null,
   "id": "45bd072a-404d-4e72-8310-1fbfbdd01e5c",
   "metadata": {},
   "outputs": [],
   "source": []
  }
 ],
 "metadata": {
  "kernelspec": {
   "display_name": "Python 3 (ipykernel)",
   "language": "python",
   "name": "python3"
  },
  "language_info": {
   "codemirror_mode": {
    "name": "ipython",
    "version": 3
   },
   "file_extension": ".py",
   "mimetype": "text/x-python",
   "name": "python",
   "nbconvert_exporter": "python",
   "pygments_lexer": "ipython3",
   "version": "3.10.9"
  }
 },
 "nbformat": 4,
 "nbformat_minor": 5
}
