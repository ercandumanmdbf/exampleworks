{
 "cells": [
  {
   "cell_type": "code",
   "execution_count": 1,
   "id": "cbad849a-4406-4828-9a93-ba6844c31275",
   "metadata": {},
   "outputs": [],
   "source": [
    "import pandas as pd\n",
    "import matplotlib.pyplot as plt"
   ]
  },
  {
   "cell_type": "code",
   "execution_count": 2,
   "id": "c2def2a2-5fe5-4239-8e8b-bfa21076a714",
   "metadata": {},
   "outputs": [],
   "source": [
    "data = pd.read_csv(\"test.csv\")"
   ]
  },
  {
   "cell_type": "code",
   "execution_count": 3,
   "id": "e556c7bf-d064-49bd-a957-79c21ccc46a6",
   "metadata": {},
   "outputs": [
    {
     "data": {
      "text/html": [
       "<div>\n",
       "<style scoped>\n",
       "    .dataframe tbody tr th:only-of-type {\n",
       "        vertical-align: middle;\n",
       "    }\n",
       "\n",
       "    .dataframe tbody tr th {\n",
       "        vertical-align: top;\n",
       "    }\n",
       "\n",
       "    .dataframe thead th {\n",
       "        text-align: right;\n",
       "    }\n",
       "</style>\n",
       "<table border=\"1\" class=\"dataframe\">\n",
       "  <thead>\n",
       "    <tr style=\"text-align: right;\">\n",
       "      <th></th>\n",
       "      <th>age</th>\n",
       "      <th>workclass</th>\n",
       "      <th>fnlwgt</th>\n",
       "      <th>education</th>\n",
       "      <th>educational-num</th>\n",
       "      <th>marital-status</th>\n",
       "      <th>occupation</th>\n",
       "      <th>relationship</th>\n",
       "      <th>race</th>\n",
       "      <th>gender</th>\n",
       "      <th>capital-gain</th>\n",
       "      <th>capital-loss</th>\n",
       "      <th>hours-per-week</th>\n",
       "      <th>native-country</th>\n",
       "    </tr>\n",
       "  </thead>\n",
       "  <tbody>\n",
       "    <tr>\n",
       "      <th>0</th>\n",
       "      <td>39</td>\n",
       "      <td>Self-emp-not-inc</td>\n",
       "      <td>327120</td>\n",
       "      <td>HS-grad</td>\n",
       "      <td>9</td>\n",
       "      <td>Married-civ-spouse</td>\n",
       "      <td>Craft-repair</td>\n",
       "      <td>Husband</td>\n",
       "      <td>White</td>\n",
       "      <td>Male</td>\n",
       "      <td>0</td>\n",
       "      <td>0</td>\n",
       "      <td>40</td>\n",
       "      <td>Portugal</td>\n",
       "    </tr>\n",
       "    <tr>\n",
       "      <th>1</th>\n",
       "      <td>32</td>\n",
       "      <td>Private</td>\n",
       "      <td>123253</td>\n",
       "      <td>Assoc-acdm</td>\n",
       "      <td>12</td>\n",
       "      <td>Married-civ-spouse</td>\n",
       "      <td>Craft-repair</td>\n",
       "      <td>Husband</td>\n",
       "      <td>White</td>\n",
       "      <td>Male</td>\n",
       "      <td>0</td>\n",
       "      <td>0</td>\n",
       "      <td>42</td>\n",
       "      <td>United-States</td>\n",
       "    </tr>\n",
       "    <tr>\n",
       "      <th>2</th>\n",
       "      <td>47</td>\n",
       "      <td>Private</td>\n",
       "      <td>232628</td>\n",
       "      <td>HS-grad</td>\n",
       "      <td>9</td>\n",
       "      <td>Married-civ-spouse</td>\n",
       "      <td>Craft-repair</td>\n",
       "      <td>Husband</td>\n",
       "      <td>Black</td>\n",
       "      <td>Male</td>\n",
       "      <td>0</td>\n",
       "      <td>0</td>\n",
       "      <td>40</td>\n",
       "      <td>United-States</td>\n",
       "    </tr>\n",
       "    <tr>\n",
       "      <th>3</th>\n",
       "      <td>19</td>\n",
       "      <td>Private</td>\n",
       "      <td>374262</td>\n",
       "      <td>12th</td>\n",
       "      <td>8</td>\n",
       "      <td>Never-married</td>\n",
       "      <td>Handlers-cleaners</td>\n",
       "      <td>Own-child</td>\n",
       "      <td>White</td>\n",
       "      <td>Male</td>\n",
       "      <td>0</td>\n",
       "      <td>0</td>\n",
       "      <td>20</td>\n",
       "      <td>United-States</td>\n",
       "    </tr>\n",
       "    <tr>\n",
       "      <th>4</th>\n",
       "      <td>46</td>\n",
       "      <td>Self-emp-not-inc</td>\n",
       "      <td>311231</td>\n",
       "      <td>HS-grad</td>\n",
       "      <td>9</td>\n",
       "      <td>Married-civ-spouse</td>\n",
       "      <td>Farming-fishing</td>\n",
       "      <td>Husband</td>\n",
       "      <td>White</td>\n",
       "      <td>Male</td>\n",
       "      <td>0</td>\n",
       "      <td>0</td>\n",
       "      <td>40</td>\n",
       "      <td>United-States</td>\n",
       "    </tr>\n",
       "    <tr>\n",
       "      <th>...</th>\n",
       "      <td>...</td>\n",
       "      <td>...</td>\n",
       "      <td>...</td>\n",
       "      <td>...</td>\n",
       "      <td>...</td>\n",
       "      <td>...</td>\n",
       "      <td>...</td>\n",
       "      <td>...</td>\n",
       "      <td>...</td>\n",
       "      <td>...</td>\n",
       "      <td>...</td>\n",
       "      <td>...</td>\n",
       "      <td>...</td>\n",
       "      <td>...</td>\n",
       "    </tr>\n",
       "    <tr>\n",
       "      <th>894</th>\n",
       "      <td>27</td>\n",
       "      <td>Private</td>\n",
       "      <td>302406</td>\n",
       "      <td>Masters</td>\n",
       "      <td>14</td>\n",
       "      <td>Married-civ-spouse</td>\n",
       "      <td>Prof-specialty</td>\n",
       "      <td>Husband</td>\n",
       "      <td>White</td>\n",
       "      <td>Male</td>\n",
       "      <td>0</td>\n",
       "      <td>0</td>\n",
       "      <td>55</td>\n",
       "      <td>United-States</td>\n",
       "    </tr>\n",
       "    <tr>\n",
       "      <th>895</th>\n",
       "      <td>17</td>\n",
       "      <td>Private</td>\n",
       "      <td>218124</td>\n",
       "      <td>11th</td>\n",
       "      <td>7</td>\n",
       "      <td>Never-married</td>\n",
       "      <td>Sales</td>\n",
       "      <td>Own-child</td>\n",
       "      <td>White</td>\n",
       "      <td>Female</td>\n",
       "      <td>0</td>\n",
       "      <td>0</td>\n",
       "      <td>20</td>\n",
       "      <td>United-States</td>\n",
       "    </tr>\n",
       "    <tr>\n",
       "      <th>896</th>\n",
       "      <td>24</td>\n",
       "      <td>Private</td>\n",
       "      <td>127139</td>\n",
       "      <td>Some-college</td>\n",
       "      <td>10</td>\n",
       "      <td>Never-married</td>\n",
       "      <td>Adm-clerical</td>\n",
       "      <td>Own-child</td>\n",
       "      <td>White</td>\n",
       "      <td>Female</td>\n",
       "      <td>0</td>\n",
       "      <td>0</td>\n",
       "      <td>40</td>\n",
       "      <td>United-States</td>\n",
       "    </tr>\n",
       "    <tr>\n",
       "      <th>897</th>\n",
       "      <td>35</td>\n",
       "      <td>Private</td>\n",
       "      <td>132879</td>\n",
       "      <td>Some-college</td>\n",
       "      <td>10</td>\n",
       "      <td>Married-civ-spouse</td>\n",
       "      <td>Tech-support</td>\n",
       "      <td>Husband</td>\n",
       "      <td>White</td>\n",
       "      <td>Male</td>\n",
       "      <td>0</td>\n",
       "      <td>0</td>\n",
       "      <td>40</td>\n",
       "      <td>United-States</td>\n",
       "    </tr>\n",
       "    <tr>\n",
       "      <th>898</th>\n",
       "      <td>37</td>\n",
       "      <td>Local-gov</td>\n",
       "      <td>44694</td>\n",
       "      <td>Masters</td>\n",
       "      <td>14</td>\n",
       "      <td>Married-civ-spouse</td>\n",
       "      <td>Prof-specialty</td>\n",
       "      <td>Wife</td>\n",
       "      <td>White</td>\n",
       "      <td>Female</td>\n",
       "      <td>0</td>\n",
       "      <td>0</td>\n",
       "      <td>45</td>\n",
       "      <td>United-States</td>\n",
       "    </tr>\n",
       "  </tbody>\n",
       "</table>\n",
       "<p>899 rows × 14 columns</p>\n",
       "</div>"
      ],
      "text/plain": [
       "     age         workclass  fnlwgt     education  educational-num  \\\n",
       "0     39  Self-emp-not-inc  327120       HS-grad                9   \n",
       "1     32           Private  123253    Assoc-acdm               12   \n",
       "2     47           Private  232628       HS-grad                9   \n",
       "3     19           Private  374262          12th                8   \n",
       "4     46  Self-emp-not-inc  311231       HS-grad                9   \n",
       "..   ...               ...     ...           ...              ...   \n",
       "894   27           Private  302406       Masters               14   \n",
       "895   17           Private  218124          11th                7   \n",
       "896   24           Private  127139  Some-college               10   \n",
       "897   35           Private  132879  Some-college               10   \n",
       "898   37         Local-gov   44694       Masters               14   \n",
       "\n",
       "         marital-status         occupation relationship   race  gender  \\\n",
       "0    Married-civ-spouse       Craft-repair      Husband  White    Male   \n",
       "1    Married-civ-spouse       Craft-repair      Husband  White    Male   \n",
       "2    Married-civ-spouse       Craft-repair      Husband  Black    Male   \n",
       "3         Never-married  Handlers-cleaners    Own-child  White    Male   \n",
       "4    Married-civ-spouse    Farming-fishing      Husband  White    Male   \n",
       "..                  ...                ...          ...    ...     ...   \n",
       "894  Married-civ-spouse     Prof-specialty      Husband  White    Male   \n",
       "895       Never-married              Sales    Own-child  White  Female   \n",
       "896       Never-married       Adm-clerical    Own-child  White  Female   \n",
       "897  Married-civ-spouse       Tech-support      Husband  White    Male   \n",
       "898  Married-civ-spouse     Prof-specialty         Wife  White  Female   \n",
       "\n",
       "     capital-gain  capital-loss  hours-per-week native-country  \n",
       "0               0             0              40       Portugal  \n",
       "1               0             0              42  United-States  \n",
       "2               0             0              40  United-States  \n",
       "3               0             0              20  United-States  \n",
       "4               0             0              40  United-States  \n",
       "..            ...           ...             ...            ...  \n",
       "894             0             0              55  United-States  \n",
       "895             0             0              20  United-States  \n",
       "896             0             0              40  United-States  \n",
       "897             0             0              40  United-States  \n",
       "898             0             0              45  United-States  \n",
       "\n",
       "[899 rows x 14 columns]"
      ]
     },
     "execution_count": 3,
     "metadata": {},
     "output_type": "execute_result"
    }
   ],
   "source": [
    "data"
   ]
  },
  {
   "cell_type": "code",
   "execution_count": 4,
   "id": "25302b36-5ef0-404a-9b49-4b3cc3efef39",
   "metadata": {},
   "outputs": [],
   "source": [
    "X=data.age"
   ]
  },
  {
   "cell_type": "code",
   "execution_count": 5,
   "id": "afce98ef-c3f0-43ac-bed3-ece1ae424e0a",
   "metadata": {},
   "outputs": [
    {
     "data": {
      "text/plain": [
       "0      39\n",
       "1      32\n",
       "2      47\n",
       "3      19\n",
       "4      46\n",
       "       ..\n",
       "894    27\n",
       "895    17\n",
       "896    24\n",
       "897    35\n",
       "898    37\n",
       "Name: age, Length: 899, dtype: int64"
      ]
     },
     "execution_count": 5,
     "metadata": {},
     "output_type": "execute_result"
    }
   ],
   "source": [
    "X"
   ]
  },
  {
   "cell_type": "code",
   "execution_count": 6,
   "id": "8f097043-1384-4e44-9e83-4a3185a75b40",
   "metadata": {},
   "outputs": [],
   "source": [
    "y=data.fnlwgt"
   ]
  },
  {
   "cell_type": "code",
   "execution_count": 7,
   "id": "c2614a5e-6bc4-452c-89bb-3a4aa56a182a",
   "metadata": {},
   "outputs": [
    {
     "data": {
      "text/plain": [
       "0      327120\n",
       "1      123253\n",
       "2      232628\n",
       "3      374262\n",
       "4      311231\n",
       "        ...  \n",
       "894    302406\n",
       "895    218124\n",
       "896    127139\n",
       "897    132879\n",
       "898     44694\n",
       "Name: fnlwgt, Length: 899, dtype: int64"
      ]
     },
     "execution_count": 7,
     "metadata": {},
     "output_type": "execute_result"
    }
   ],
   "source": [
    "y"
   ]
  },
  {
   "cell_type": "code",
   "execution_count": 11,
   "id": "00cb0d90-a220-460c-b854-40a4c5a85362",
   "metadata": {},
   "outputs": [
    {
     "data": {
      "text/plain": [
       "Text(0.5, 1.0, 'Age Income Plot')"
      ]
     },
     "execution_count": 11,
     "metadata": {},
     "output_type": "execute_result"
    },
    {
     "data": {
      "image/png": "[encoded data removed]",
      "text/plain": [
       "<Figure size 640x480 with 1 Axes>"
      ]
     },
     "metadata": {},
     "output_type": "display_data"
    }
   ],
   "source": [
    "plt.scatter(X,y)\n",
    "plt.xlabel(\"Age\")\n",
    "plt.ylabel(\"Income\")\n",
    "plt.title(\"Age Income Plot\")"
   ]
  },
  {
   "cell_type": "markdown",
   "id": "fdb7d214-c32e-4bc8-a7c5-93daeab0b40c",
   "metadata": {},
   "source": [
    "now we start to make prediction if age income linear "
   ]
  },
  {
   "cell_type": "code",
   "execution_count": 12,
   "id": "4485a735-50d7-4edc-af3a-31afa0ec5678",
   "metadata": {},
   "outputs": [],
   "source": [
    "import numpy as np"
   ]
  },
  {
   "cell_type": "code",
   "execution_count": 13,
   "id": "53b53619-470a-4184-86cb-8aa548846c10",
   "metadata": {},
   "outputs": [],
   "source": [
    "from sklearn.model_selection import train_test_split"
   ]
  },
  {
   "cell_type": "code",
   "execution_count": 14,
   "id": "b740c9f1-e59e-49af-9f44-12a47d782c9f",
   "metadata": {},
   "outputs": [],
   "source": [
    "X_train, X_test, y_train, y_test = train_test_split(X,y,test_size=0.2,random_state=1)"
   ]
  },
  {
   "cell_type": "markdown",
   "id": "aa0cc56e-a0e8-4e83-acdf-d4e4e66b6a10",
   "metadata": {},
   "source": [
    "now teach the linear regression"
   ]
  },
  {
   "cell_type": "code",
   "execution_count": 15,
   "id": "4c309373-67a7-44b8-80b0-a00d86744862",
   "metadata": {},
   "outputs": [],
   "source": [
    "from sklearn.linear_model import LinearRegression"
   ]
  },
  {
   "cell_type": "code",
   "execution_count": 19,
   "id": "991a44fc-9d3d-4abc-8ea8-248c0a80de65",
   "metadata": {},
   "outputs": [],
   "source": [
    "lr=LinearRegression()"
   ]
  },
  {
   "cell_type": "code",
   "execution_count": 22,
   "id": "85c868a9-c2d9-46df-945c-ba34a4342570",
   "metadata": {},
   "outputs": [
    {
     "data": {
      "text/html": [
       "<style>#sk-container-id-2 {color: black;background-color: white;}#sk-container-id-2 pre{padding: 0;}#sk-container-id-2 div.sk-toggleable {background-color: white;}#sk-container-id-2 label.sk-toggleable__label {cursor: pointer;display: block;width: 100%;margin-bottom: 0;padding: 0.3em;box-sizing: border-box;text-align: center;}#sk-container-id-2 label.sk-toggleable__label-arrow:before {content: \"▸\";float: left;margin-right: 0.25em;color: #696969;}#sk-container-id-2 label.sk-toggleable__label-arrow:hover:before {color: black;}#sk-container-id-2 div.sk-estimator:hover label.sk-toggleable__label-arrow:before {color: black;}#sk-container-id-2 div.sk-toggleable__content {max-height: 0;max-width: 0;overflow: hidden;text-align: left;background-color: #f0f8ff;}#sk-container-id-2 div.sk-toggleable__content pre {margin: 0.2em;color: black;border-radius: 0.25em;background-color: #f0f8ff;}#sk-container-id-2 input.sk-toggleable__control:checked~div.sk-toggleable__content {max-height: 200px;max-width: 100%;overflow: auto;}#sk-container-id-2 input.sk-toggleable__control:checked~label.sk-toggleable__label-arrow:before {content: \"▾\";}#sk-container-id-2 div.sk-estimator input.sk-toggleable__control:checked~label.sk-toggleable__label {background-color: #d4ebff;}#sk-container-id-2 div.sk-label input.sk-toggleable__control:checked~label.sk-toggleable__label {background-color: #d4ebff;}#sk-container-id-2 input.sk-hidden--visually {border: 0;clip: rect(1px 1px 1px 1px);clip: rect(1px, 1px, 1px, 1px);height: 1px;margin: -1px;overflow: hidden;padding: 0;position: absolute;width: 1px;}#sk-container-id-2 div.sk-estimator {font-family: monospace;background-color: #f0f8ff;border: 1px dotted black;border-radius: 0.25em;box-sizing: border-box;margin-bottom: 0.5em;}#sk-container-id-2 div.sk-estimator:hover {background-color: #d4ebff;}#sk-container-id-2 div.sk-parallel-item::after {content: \"\";width: 100%;border-bottom: 1px solid gray;flex-grow: 1;}#sk-container-id-2 div.sk-label:hover label.sk-toggleable__label {background-color: #d4ebff;}#sk-container-id-2 div.sk-serial::before {content: \"\";position: absolute;border-left: 1px solid gray;box-sizing: border-box;top: 0;bottom: 0;left: 50%;z-index: 0;}#sk-container-id-2 div.sk-serial {display: flex;flex-direction: column;align-items: center;background-color: white;padding-right: 0.2em;padding-left: 0.2em;position: relative;}#sk-container-id-2 div.sk-item {position: relative;z-index: 1;}#sk-container-id-2 div.sk-parallel {display: flex;align-items: stretch;justify-content: center;background-color: white;position: relative;}#sk-container-id-2 div.sk-item::before, #sk-container-id-2 div.sk-parallel-item::before {content: \"\";position: absolute;border-left: 1px solid gray;box-sizing: border-box;top: 0;bottom: 0;left: 50%;z-index: -1;}#sk-container-id-2 div.sk-parallel-item {display: flex;flex-direction: column;z-index: 1;position: relative;background-color: white;}#sk-container-id-2 div.sk-parallel-item:first-child::after {align-self: flex-end;width: 50%;}#sk-container-id-2 div.sk-parallel-item:last-child::after {align-self: flex-start;width: 50%;}#sk-container-id-2 div.sk-parallel-item:only-child::after {width: 0;}#sk-container-id-2 div.sk-dashed-wrapped {border: 1px dashed gray;margin: 0 0.4em 0.5em 0.4em;box-sizing: border-box;padding-bottom: 0.4em;background-color: white;}#sk-container-id-2 div.sk-label label {font-family: monospace;font-weight: bold;display: inline-block;line-height: 1.2em;}#sk-container-id-2 div.sk-label-container {text-align: center;}#sk-container-id-2 div.sk-container {/* jupyter's `normalize.less` sets `[hidden] { display: none; }` but bootstrap.min.css set `[hidden] { display: none !important; }` so we also need the `!important` here to be able to override the default hidden behavior on the sphinx rendered scikit-learn.org. See: https://github.com/scikit-learn/scikit-learn/issues/21755 */display: inline-block !important;position: relative;}#sk-container-id-2 div.sk-text-repr-fallback {display: none;}</style><div id=\"sk-container-id-2\" class=\"sk-top-container\"><div class=\"sk-text-repr-fallback\"><pre>LinearRegression()</pre><b>In a Jupyter environment, please rerun this cell to show the HTML representation or trust the notebook. <br />On GitHub, the HTML representation is unable to render, please try loading this page with nbviewer.org.</b></div><div class=\"sk-container\" hidden><div class=\"sk-item\"><div class=\"sk-estimator sk-toggleable\"><input class=\"sk-toggleable__control sk-hidden--visually\" id=\"sk-estimator-id-2\" type=\"checkbox\" checked><label for=\"sk-estimator-id-2\" class=\"sk-toggleable__label sk-toggleable__label-arrow\">LinearRegression</label><div class=\"sk-toggleable__content\"><pre>LinearRegression()</pre></div></div></div></div></div>"
      ],
      "text/plain": [
       "LinearRegression()"
      ]
     },
     "execution_count": 22,
     "metadata": {},
     "output_type": "execute_result"
    }
   ],
   "source": [
    "X_train = X_train.to_frame()\n",
    "lr.fit(X_train, y_train)"
   ]
  },
  {
   "cell_type": "code",
   "execution_count": 23,
   "id": "5b4bc8bf-419e-4a43-8d11-1f2e3376ec9c",
   "metadata": {},
   "outputs": [],
   "source": [
    "y_predict = lr.predict(X_train)"
   ]
  },
  {
   "cell_type": "code",
   "execution_count": 24,
   "id": "36697d4c-d1d3-4944-80a9-a66904528917",
   "metadata": {},
   "outputs": [
    {
     "data": {
      "text/plain": [
       "array([191025.3824758 , 188174.21439866, 203142.84680365, 188887.00641795,\n",
       "       203142.84680365, 203142.84680365, 192450.96651437, 194589.34257223,\n",
       "       193876.55055294, 200291.67872651, 178195.12612867, 191738.17449509,\n",
       "       194589.34257223, 174631.16603225, 194589.34257223, 196727.71863008,\n",
       "       176056.75007082, 183184.67026367, 198866.09468794, 176056.75007082,\n",
       "       205281.2228615 , 181046.29420581, 197440.51064937, 193876.55055294,\n",
       "       203855.63882293, 192450.96651437, 185323.04632152, 194589.34257223,\n",
       "       193876.55055294, 204568.43084222, 191025.3824758 , 176056.75007082,\n",
       "       192450.96651437, 198866.09468794, 204568.43084222, 190312.59045652,\n",
       "       176769.54209011, 203142.84680365, 198866.09468794, 203855.63882293,\n",
       "       205994.01488079, 192450.96651437, 203142.84680365, 201717.26276508,\n",
       "       202430.05478436, 202430.05478436, 187461.42237938, 203142.84680365,\n",
       "       185323.04632152, 194589.34257223, 192450.96651437, 192450.96651437,\n",
       "       182471.87824438, 202430.05478436, 200291.67872651, 206706.80690007,\n",
       "       188174.21439866, 199578.88670722, 204568.43084222, 187461.42237938,\n",
       "       184610.25430224, 204568.43084222, 176769.54209011, 202430.05478436,\n",
       "       202430.05478436, 182471.87824438, 203142.84680365, 206706.80690007,\n",
       "       205994.01488079, 192450.96651437, 198153.30266865, 196727.71863008,\n",
       "       183897.46228295, 196727.71863008, 186035.83834081, 196014.9266108 ,\n",
       "       205994.01488079, 193876.55055294, 198153.30266865, 204568.43084222,\n",
       "       178907.91814796, 186035.83834081, 187461.42237938, 192450.96651437,\n",
       "       199578.88670722, 188887.00641795, 183184.67026367, 197440.51064937,\n",
       "       186035.83834081, 193876.55055294, 196727.71863008, 198153.30266865,\n",
       "       194589.34257223, 195302.13459151, 189599.79843723, 199578.88670722,\n",
       "       186035.83834081, 186748.63036009, 196727.71863008, 201717.26276508,\n",
       "       188887.00641795, 196014.9266108 , 180333.50218653, 196727.71863008,\n",
       "       191738.17449509, 194589.34257223, 200291.67872651, 186748.63036009,\n",
       "       188174.21439866, 202430.05478436, 190312.59045652, 195302.13459151,\n",
       "       196014.9266108 , 192450.96651437, 192450.96651437, 207419.59891936,\n",
       "       197440.51064937, 187461.42237938, 196014.9266108 , 207419.59891936,\n",
       "       194589.34257223, 203142.84680365, 184610.25430224, 183184.67026367,\n",
       "       192450.96651437, 195302.13459151, 186748.63036009, 203855.63882293,\n",
       "       191025.3824758 , 192450.96651437, 196727.71863008, 198153.30266865,\n",
       "       196014.9266108 , 200291.67872651, 203855.63882293, 201717.26276508,\n",
       "       173918.37401297, 201717.26276508, 190312.59045652, 203855.63882293,\n",
       "       197440.51064937, 205281.2228615 , 203855.63882293, 198153.30266865,\n",
       "       194589.34257223, 202430.05478436, 173918.37401297, 186035.83834081,\n",
       "       194589.34257223, 175343.95805154, 178907.91814796, 201717.26276508,\n",
       "       191025.3824758 , 205281.2228615 , 183897.46228295, 203142.84680365,\n",
       "       205281.2228615 , 193163.75853366, 174631.16603225, 185323.04632152,\n",
       "       189599.79843723, 198153.30266865, 193163.75853366, 203142.84680365,\n",
       "       199578.88670722, 197440.51064937, 196014.9266108 , 184610.25430224,\n",
       "       188887.00641795, 187461.42237938, 188174.21439866, 201717.26276508,\n",
       "       194589.34257223, 202430.05478436, 186748.63036009, 184610.25430224,\n",
       "       188174.21439866, 206706.80690007, 177482.33410939, 200291.67872651,\n",
       "       203142.84680365, 201004.47074579, 182471.87824438, 179620.71016724,\n",
       "       198866.09468794, 171779.99795511, 198866.09468794, 198866.09468794,\n",
       "       206706.80690007, 199578.88670722, 176056.75007082, 194589.34257223,\n",
       "       202430.05478436, 199578.88670722, 201717.26276508, 202430.05478436,\n",
       "       188887.00641795, 200291.67872651, 188174.21439866, 203142.84680365,\n",
       "       200291.67872651, 187461.42237938, 188174.21439866, 193876.55055294,\n",
       "       186748.63036009, 187461.42237938, 178907.91814796, 183897.46228295,\n",
       "       191738.17449509, 193876.55055294, 173205.58199368, 200291.67872651,\n",
       "       199578.88670722, 198153.30266865, 175343.95805154, 188174.21439866,\n",
       "       205281.2228615 , 178195.12612867, 201004.47074579, 193163.75853366,\n",
       "       184610.25430224, 203855.63882293, 194589.34257223, 203142.84680365,\n",
       "       173918.37401297, 186035.83834081, 182471.87824438, 208132.39093864,\n",
       "       199578.88670722, 205994.01488079, 182471.87824438, 193876.55055294,\n",
       "       203855.63882293, 197440.51064937, 196014.9266108 , 200291.67872651,\n",
       "       187461.42237938, 201004.47074579, 200291.67872651, 191738.17449509,\n",
       "       199578.88670722, 202430.05478436, 201717.26276508, 184610.25430224,\n",
       "       186748.63036009, 202430.05478436, 191025.3824758 , 188174.21439866,\n",
       "       188887.00641795, 186035.83834081, 193876.55055294, 189599.79843723,\n",
       "       207419.59891936, 200291.67872651, 203855.63882293, 182471.87824438,\n",
       "       203855.63882293, 179620.71016724, 201717.26276508, 190312.59045652,\n",
       "       183184.67026367, 205281.2228615 , 171779.99795511, 206706.80690007,\n",
       "       182471.87824438, 205994.01488079, 204568.43084222, 174631.16603225,\n",
       "       193163.75853366, 188174.21439866, 192450.96651437, 186748.63036009,\n",
       "       188174.21439866, 202430.05478436, 184610.25430224, 181759.0862251 ,\n",
       "       178907.91814796, 193163.75853366, 185323.04632152, 178195.12612867,\n",
       "       180333.50218653, 196727.71863008, 201717.26276508, 198866.09468794,\n",
       "       195302.13459151, 202430.05478436, 190312.59045652, 193163.75853366,\n",
       "       199578.88670722, 178195.12612867, 206706.80690007, 194589.34257223,\n",
       "       197440.51064937, 192450.96651437, 176769.54209011, 198866.09468794,\n",
       "       188174.21439866, 196014.9266108 , 201004.47074579, 178195.12612867,\n",
       "       186035.83834081, 188174.21439866, 186035.83834081, 205281.2228615 ,\n",
       "       179620.71016724, 183897.46228295, 198866.09468794, 196014.9266108 ,\n",
       "       188174.21439866, 185323.04632152, 201717.26276508, 195302.13459151,\n",
       "       203855.63882293, 193876.55055294, 200291.67872651, 186035.83834081,\n",
       "       190312.59045652, 195302.13459151, 195302.13459151, 167503.2458394 ,\n",
       "       178195.12612867, 194589.34257223, 188174.21439866, 206706.80690007,\n",
       "       172492.7899744 , 193163.75853366, 200291.67872651, 197440.51064937,\n",
       "       180333.50218653, 181046.29420581, 199578.88670722, 181759.0862251 ,\n",
       "       188887.00641795, 188887.00641795, 189599.79843723, 198153.30266865,\n",
       "       194589.34257223, 201717.26276508, 202430.05478436, 178907.91814796,\n",
       "       195302.13459151, 171067.20593583, 205281.2228615 , 205994.01488079,\n",
       "       186748.63036009, 194589.34257223, 187461.42237938, 205994.01488079,\n",
       "       189599.79843723, 202430.05478436, 194589.34257223, 193163.75853366,\n",
       "       205281.2228615 , 177482.33410939, 191025.3824758 , 186748.63036009,\n",
       "       180333.50218653, 200291.67872651, 198153.30266865, 183897.46228295,\n",
       "       178907.91814796, 189599.79843723, 187461.42237938, 186748.63036009,\n",
       "       192450.96651437, 198153.30266865, 184610.25430224, 192450.96651437,\n",
       "       195302.13459151, 188887.00641795, 189599.79843723, 187461.42237938,\n",
       "       181046.29420581, 191738.17449509, 193163.75853366, 203142.84680365,\n",
       "       181046.29420581, 196014.9266108 , 205281.2228615 , 202430.05478436,\n",
       "       172492.7899744 , 190312.59045652, 202430.05478436, 172492.7899744 ,\n",
       "       205281.2228615 , 196727.71863008, 198153.30266865, 205281.2228615 ,\n",
       "       190312.59045652, 183184.67026367, 177482.33410939, 202430.05478436,\n",
       "       170354.41391654, 203855.63882293, 188174.21439866, 191738.17449509,\n",
       "       194589.34257223, 195302.13459151, 193876.55055294, 180333.50218653,\n",
       "       197440.51064937, 200291.67872651, 199578.88670722, 196727.71863008,\n",
       "       190312.59045652, 178195.12612867, 178195.12612867, 161800.90968512,\n",
       "       196014.9266108 , 180333.50218653, 195302.13459151, 183184.67026367,\n",
       "       183184.67026367, 178907.91814796, 186035.83834081, 203142.84680365,\n",
       "       198866.09468794, 193876.55055294, 193876.55055294, 200291.67872651,\n",
       "       203855.63882293, 192450.96651437, 203142.84680365, 198866.09468794,\n",
       "       203855.63882293, 202430.05478436, 198153.30266865, 205281.2228615 ,\n",
       "       197440.51064937, 200291.67872651, 180333.50218653, 207419.59891936,\n",
       "       185323.04632152, 181759.0862251 , 198866.09468794, 192450.96651437,\n",
       "       188174.21439866, 173918.37401297, 178907.91814796, 196727.71863008,\n",
       "       186748.63036009, 185323.04632152, 187461.42237938, 200291.67872651,\n",
       "       201004.47074579, 198866.09468794, 181046.29420581, 181759.0862251 ,\n",
       "       188174.21439866, 203142.84680365, 183184.67026367, 198153.30266865,\n",
       "       179620.71016724, 203855.63882293, 193163.75853366, 181759.0862251 ,\n",
       "       203142.84680365, 185323.04632152, 193876.55055294, 188174.21439866,\n",
       "       177482.33410939, 188887.00641795, 188887.00641795, 187461.42237938,\n",
       "       200291.67872651, 173918.37401297, 198866.09468794, 196727.71863008,\n",
       "       175343.95805154, 195302.13459151, 202430.05478436, 174631.16603225,\n",
       "       203142.84680365, 205281.2228615 , 202430.05478436, 195302.13459151,\n",
       "       194589.34257223, 191025.3824758 , 182471.87824438, 201717.26276508,\n",
       "       178907.91814796, 168216.03785869, 196727.71863008, 191025.3824758 ,\n",
       "       194589.34257223, 181759.0862251 , 204568.43084222, 199578.88670722,\n",
       "       180333.50218653, 186035.83834081, 203142.84680365, 203855.63882293,\n",
       "       173205.58199368, 197440.51064937, 181046.29420581, 187461.42237938,\n",
       "       204568.43084222, 203855.63882293, 202430.05478436, 182471.87824438,\n",
       "       188174.21439866, 203855.63882293, 193876.55055294, 182471.87824438,\n",
       "       201717.26276508, 205281.2228615 , 181046.29420581, 189599.79843723,\n",
       "       196014.9266108 , 186035.83834081, 174631.16603225, 198153.30266865,\n",
       "       196727.71863008, 156098.57353084, 187461.42237938, 163226.49372369,\n",
       "       196727.71863008, 178195.12612867, 204568.43084222, 198153.30266865,\n",
       "       178907.91814796, 204568.43084222, 192450.96651437, 193163.75853366,\n",
       "       201004.47074579, 197440.51064937, 191025.3824758 , 177482.33410939,\n",
       "       191738.17449509, 203142.84680365, 201717.26276508, 200291.67872651,\n",
       "       207419.59891936, 197440.51064937, 183897.46228295, 173918.37401297,\n",
       "       193876.55055294, 181046.29420581, 198866.09468794, 205281.2228615 ,\n",
       "       187461.42237938, 201717.26276508, 188887.00641795, 198866.09468794,\n",
       "       176056.75007082, 181046.29420581, 173205.58199368, 186035.83834081,\n",
       "       185323.04632152, 201717.26276508, 208132.39093864, 199578.88670722,\n",
       "       191738.17449509, 181046.29420581, 176769.54209011, 203855.63882293,\n",
       "       188174.21439866, 194589.34257223, 198153.30266865, 203142.84680365,\n",
       "       200291.67872651, 191025.3824758 , 195302.13459151, 189599.79843723,\n",
       "       187461.42237938, 201717.26276508, 200291.67872651, 181759.0862251 ,\n",
       "       183184.67026367, 190312.59045652, 193876.55055294, 206706.80690007,\n",
       "       203855.63882293, 194589.34257223, 191738.17449509, 183184.67026367,\n",
       "       190312.59045652, 206706.80690007, 175343.95805154, 186035.83834081,\n",
       "       186035.83834081, 196727.71863008, 193876.55055294, 199578.88670722,\n",
       "       202430.05478436, 166790.45382012, 186035.83834081, 195302.13459151,\n",
       "       188174.21439866, 193876.55055294, 204568.43084222, 196014.9266108 ,\n",
       "       199578.88670722, 202430.05478436, 184610.25430224, 181759.0862251 ,\n",
       "       191025.3824758 , 202430.05478436, 183184.67026367, 192450.96651437,\n",
       "       198866.09468794, 194589.34257223, 201717.26276508, 201004.47074579,\n",
       "       176056.75007082, 200291.67872651, 194589.34257223, 172492.7899744 ,\n",
       "       196727.71863008, 203142.84680365, 192450.96651437, 198153.30266865,\n",
       "       198153.30266865, 188887.00641795, 201717.26276508, 177482.33410939,\n",
       "       192450.96651437, 179620.71016724, 205281.2228615 , 191738.17449509,\n",
       "       201004.47074579, 184610.25430224, 188174.21439866, 202430.05478436,\n",
       "       178195.12612867, 181046.29420581, 202430.05478436, 201717.26276508,\n",
       "       198153.30266865, 198153.30266865, 176769.54209011, 168216.03785869,\n",
       "       183184.67026367, 198153.30266865, 198866.09468794, 192450.96651437,\n",
       "       185323.04632152, 185323.04632152, 196014.9266108 , 201004.47074579,\n",
       "       185323.04632152, 208132.39093864, 188887.00641795, 188174.21439866,\n",
       "       170354.41391654, 191025.3824758 , 203142.84680365, 176769.54209011,\n",
       "       190312.59045652, 203142.84680365, 201717.26276508, 202430.05478436,\n",
       "       196014.9266108 , 190312.59045652, 193163.75853366, 195302.13459151,\n",
       "       196727.71863008, 202430.05478436, 186748.63036009, 195302.13459151,\n",
       "       200291.67872651, 201717.26276508, 198866.09468794, 199578.88670722,\n",
       "       201004.47074579, 195302.13459151, 182471.87824438, 207419.59891936,\n",
       "       199578.88670722, 190312.59045652, 191738.17449509, 193163.75853366,\n",
       "       202430.05478436, 194589.34257223, 186748.63036009, 191738.17449509,\n",
       "       200291.67872651, 205281.2228615 , 205994.01488079, 176056.75007082,\n",
       "       198866.09468794, 193163.75853366, 180333.50218653, 186035.83834081,\n",
       "       199578.88670722, 193163.75853366, 207419.59891936, 198153.30266865,\n",
       "       188174.21439866, 193876.55055294, 191738.17449509, 183184.67026367,\n",
       "       202430.05478436, 203855.63882293, 202430.05478436, 196014.9266108 ,\n",
       "       191025.3824758 , 205281.2228615 , 198866.09468794, 193876.55055294,\n",
       "       191025.3824758 , 176056.75007082, 190312.59045652, 198153.30266865,\n",
       "       190312.59045652, 185323.04632152, 191025.3824758 , 186035.83834081,\n",
       "       193163.75853366, 198866.09468794, 186748.63036009, 180333.50218653,\n",
       "       186035.83834081, 197440.51064937, 169641.62189726, 201717.26276508,\n",
       "       195302.13459151, 197440.51064937, 186748.63036009])"
      ]
     },
     "execution_count": 24,
     "metadata": {},
     "output_type": "execute_result"
    }
   ],
   "source": [
    "y_predict"
   ]
  },
  {
   "cell_type": "code",
   "execution_count": 25,
   "id": "098bf2ed-397a-4ad1-b526-d135d2a4bcc1",
   "metadata": {},
   "outputs": [
    {
     "data": {
      "text/plain": [
       "Text(0, 0.5, 'Income')"
      ]
     },
     "execution_count": 25,
     "metadata": {},
     "output_type": "execute_result"
    },
    {
     "data": {
      "image/png": "[encoded data removed]",
      "text/plain": [
       "<Figure size 640x480 with 1 Axes>"
      ]
     },
     "metadata": {},
     "output_type": "display_data"
    }
   ],
   "source": [
    "plt.scatter(X_train, y_train, color=\"red\")\n",
    "plt.plot(X_train,lr.predict(X_train), color=\"blue\")\n",
    "plt.title(\"Age Income Plot\")\n",
    "plt.xlabel(\"Age\")\n",
    "plt.ylabel(\"Income\")"
   ]
  },
  {
   "cell_type": "markdown",
   "id": "d9b72652-ec0e-43fe-aaf3-1845ae61a350",
   "metadata": {},
   "source": [
    "it seems that if we got older income getting lower"
   ]
  },
  {
   "cell_type": "code",
   "execution_count": null,
   "id": "1de23667-1e28-42e1-a9bb-652b024be6d5",
   "metadata": {},
   "outputs": [],
   "source": []
  }
 ],
 "metadata": {
  "kernelspec": {
   "display_name": "Python 3 (ipykernel)",
   "language": "python",
   "name": "python3"
  },
  "language_info": {
   "codemirror_mode": {
    "name": "ipython",
    "version": 3
   },
   "file_extension": ".py",
   "mimetype": "text/x-python",
   "name": "python",
   "nbconvert_exporter": "python",
   "pygments_lexer": "ipython3",
   "version": "3.10.9"
  }
 },
 "nbformat": 4,
 "nbformat_minor": 5
}
