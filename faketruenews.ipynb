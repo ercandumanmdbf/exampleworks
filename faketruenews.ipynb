{
 "cells": [
  {
   "cell_type": "code",
   "execution_count": 1,
   "id": "02f747f2-7e2d-483c-92ec-a01817258e24",
   "metadata": {},
   "outputs": [],
   "source": [
    "import pandas as pd"
   ]
  },
  {
   "cell_type": "code",
   "execution_count": 2,
   "id": "9ef35a9b-7199-464f-85a7-4ebfb83f49b8",
   "metadata": {},
   "outputs": [],
   "source": [
    "import numpy as np"
   ]
  },
  {
   "cell_type": "code",
   "execution_count": 3,
   "id": "0e40e05d-d622-4257-b34c-368e1cce8a25",
   "metadata": {},
   "outputs": [],
   "source": [
    "import matplotlib.pyplot as plt"
   ]
  },
  {
   "cell_type": "code",
   "execution_count": 4,
   "id": "6ad4691a-0923-43a7-b977-543ae96b961f",
   "metadata": {},
   "outputs": [],
   "source": [
    "fake_data=pd.read_csv(\"Fake.csv\")\n",
    "true_data=pd.read_csv(\"True.csv\")"
   ]
  },
  {
   "cell_type": "code",
   "execution_count": 5,
   "id": "d5060057-48b4-4ea3-906e-f71a1901297d",
   "metadata": {},
   "outputs": [
    {
     "name": "stdout",
     "output_type": "stream",
     "text": [
      "<class 'pandas.core.frame.DataFrame'>\n",
      "RangeIndex: 23481 entries, 0 to 23480\n",
      "Data columns (total 4 columns):\n",
      " #   Column   Non-Null Count  Dtype \n",
      "---  ------   --------------  ----- \n",
      " 0   title    23481 non-null  object\n",
      " 1   text     23481 non-null  object\n",
      " 2   subject  23481 non-null  object\n",
      " 3   date     23481 non-null  object\n",
      "dtypes: object(4)\n",
      "memory usage: 733.9+ KB\n"
     ]
    }
   ],
   "source": [
    "fake_data.info()"
   ]
  },
  {
   "cell_type": "code",
   "execution_count": 6,
   "id": "9a47bde2-4ef9-4942-9c97-95c498cadc15",
   "metadata": {},
   "outputs": [
    {
     "data": {
      "text/html": [
       "<div>\n",
       "<style scoped>\n",
       "    .dataframe tbody tr th:only-of-type {\n",
       "        vertical-align: middle;\n",
       "    }\n",
       "\n",
       "    .dataframe tbody tr th {\n",
       "        vertical-align: top;\n",
       "    }\n",
       "\n",
       "    .dataframe thead th {\n",
       "        text-align: right;\n",
       "    }\n",
       "</style>\n",
       "<table border=\"1\" class=\"dataframe\">\n",
       "  <thead>\n",
       "    <tr style=\"text-align: right;\">\n",
       "      <th></th>\n",
       "      <th>title</th>\n",
       "      <th>text</th>\n",
       "      <th>subject</th>\n",
       "      <th>date</th>\n",
       "    </tr>\n",
       "  </thead>\n",
       "  <tbody>\n",
       "    <tr>\n",
       "      <th>0</th>\n",
       "      <td>Donald Trump Sends Out Embarrassing New Year’...</td>\n",
       "      <td>Donald Trump just couldn t wish all Americans ...</td>\n",
       "      <td>News</td>\n",
       "      <td>December 31, 2017</td>\n",
       "    </tr>\n",
       "    <tr>\n",
       "      <th>1</th>\n",
       "      <td>Drunk Bragging Trump Staffer Started Russian ...</td>\n",
       "      <td>House Intelligence Committee Chairman Devin Nu...</td>\n",
       "      <td>News</td>\n",
       "      <td>December 31, 2017</td>\n",
       "    </tr>\n",
       "    <tr>\n",
       "      <th>2</th>\n",
       "      <td>Sheriff David Clarke Becomes An Internet Joke...</td>\n",
       "      <td>On Friday, it was revealed that former Milwauk...</td>\n",
       "      <td>News</td>\n",
       "      <td>December 30, 2017</td>\n",
       "    </tr>\n",
       "    <tr>\n",
       "      <th>3</th>\n",
       "      <td>Trump Is So Obsessed He Even Has Obama’s Name...</td>\n",
       "      <td>On Christmas day, Donald Trump announced that ...</td>\n",
       "      <td>News</td>\n",
       "      <td>December 29, 2017</td>\n",
       "    </tr>\n",
       "    <tr>\n",
       "      <th>4</th>\n",
       "      <td>Pope Francis Just Called Out Donald Trump Dur...</td>\n",
       "      <td>Pope Francis used his annual Christmas Day mes...</td>\n",
       "      <td>News</td>\n",
       "      <td>December 25, 2017</td>\n",
       "    </tr>\n",
       "  </tbody>\n",
       "</table>\n",
       "</div>"
      ],
      "text/plain": [
       "                                               title  \\\n",
       "0   Donald Trump Sends Out Embarrassing New Year’...   \n",
       "1   Drunk Bragging Trump Staffer Started Russian ...   \n",
       "2   Sheriff David Clarke Becomes An Internet Joke...   \n",
       "3   Trump Is So Obsessed He Even Has Obama’s Name...   \n",
       "4   Pope Francis Just Called Out Donald Trump Dur...   \n",
       "\n",
       "                                                text subject  \\\n",
       "0  Donald Trump just couldn t wish all Americans ...    News   \n",
       "1  House Intelligence Committee Chairman Devin Nu...    News   \n",
       "2  On Friday, it was revealed that former Milwauk...    News   \n",
       "3  On Christmas day, Donald Trump announced that ...    News   \n",
       "4  Pope Francis used his annual Christmas Day mes...    News   \n",
       "\n",
       "                date  \n",
       "0  December 31, 2017  \n",
       "1  December 31, 2017  \n",
       "2  December 30, 2017  \n",
       "3  December 29, 2017  \n",
       "4  December 25, 2017  "
      ]
     },
     "execution_count": 6,
     "metadata": {},
     "output_type": "execute_result"
    }
   ],
   "source": [
    "fake_data.head()"
   ]
  },
  {
   "cell_type": "code",
   "execution_count": 7,
   "id": "2546e4d7-e71e-4878-aaff-2d36d419ea92",
   "metadata": {},
   "outputs": [
    {
     "name": "stdout",
     "output_type": "stream",
     "text": [
      "<class 'pandas.core.frame.DataFrame'>\n",
      "RangeIndex: 21417 entries, 0 to 21416\n",
      "Data columns (total 4 columns):\n",
      " #   Column   Non-Null Count  Dtype \n",
      "---  ------   --------------  ----- \n",
      " 0   title    21417 non-null  object\n",
      " 1   text     21417 non-null  object\n",
      " 2   subject  21417 non-null  object\n",
      " 3   date     21417 non-null  object\n",
      "dtypes: object(4)\n",
      "memory usage: 669.4+ KB\n"
     ]
    }
   ],
   "source": [
    "true_data.info()"
   ]
  },
  {
   "cell_type": "code",
   "execution_count": 8,
   "id": "1f909f26-2ab7-4f2b-8e17-916460353c86",
   "metadata": {},
   "outputs": [
    {
     "data": {
      "text/html": [
       "<div>\n",
       "<style scoped>\n",
       "    .dataframe tbody tr th:only-of-type {\n",
       "        vertical-align: middle;\n",
       "    }\n",
       "\n",
       "    .dataframe tbody tr th {\n",
       "        vertical-align: top;\n",
       "    }\n",
       "\n",
       "    .dataframe thead th {\n",
       "        text-align: right;\n",
       "    }\n",
       "</style>\n",
       "<table border=\"1\" class=\"dataframe\">\n",
       "  <thead>\n",
       "    <tr style=\"text-align: right;\">\n",
       "      <th></th>\n",
       "      <th>title</th>\n",
       "      <th>text</th>\n",
       "      <th>subject</th>\n",
       "      <th>date</th>\n",
       "    </tr>\n",
       "  </thead>\n",
       "  <tbody>\n",
       "    <tr>\n",
       "      <th>0</th>\n",
       "      <td>As U.S. budget fight looms, Republicans flip t...</td>\n",
       "      <td>WASHINGTON (Reuters) - The head of a conservat...</td>\n",
       "      <td>politicsNews</td>\n",
       "      <td>December 31, 2017</td>\n",
       "    </tr>\n",
       "    <tr>\n",
       "      <th>1</th>\n",
       "      <td>U.S. military to accept transgender recruits o...</td>\n",
       "      <td>WASHINGTON (Reuters) - Transgender people will...</td>\n",
       "      <td>politicsNews</td>\n",
       "      <td>December 29, 2017</td>\n",
       "    </tr>\n",
       "    <tr>\n",
       "      <th>2</th>\n",
       "      <td>Senior U.S. Republican senator: 'Let Mr. Muell...</td>\n",
       "      <td>WASHINGTON (Reuters) - The special counsel inv...</td>\n",
       "      <td>politicsNews</td>\n",
       "      <td>December 31, 2017</td>\n",
       "    </tr>\n",
       "    <tr>\n",
       "      <th>3</th>\n",
       "      <td>FBI Russia probe helped by Australian diplomat...</td>\n",
       "      <td>WASHINGTON (Reuters) - Trump campaign adviser ...</td>\n",
       "      <td>politicsNews</td>\n",
       "      <td>December 30, 2017</td>\n",
       "    </tr>\n",
       "    <tr>\n",
       "      <th>4</th>\n",
       "      <td>Trump wants Postal Service to charge 'much mor...</td>\n",
       "      <td>SEATTLE/WASHINGTON (Reuters) - President Donal...</td>\n",
       "      <td>politicsNews</td>\n",
       "      <td>December 29, 2017</td>\n",
       "    </tr>\n",
       "  </tbody>\n",
       "</table>\n",
       "</div>"
      ],
      "text/plain": [
       "                                               title  \\\n",
       "0  As U.S. budget fight looms, Republicans flip t...   \n",
       "1  U.S. military to accept transgender recruits o...   \n",
       "2  Senior U.S. Republican senator: 'Let Mr. Muell...   \n",
       "3  FBI Russia probe helped by Australian diplomat...   \n",
       "4  Trump wants Postal Service to charge 'much mor...   \n",
       "\n",
       "                                                text       subject  \\\n",
       "0  WASHINGTON (Reuters) - The head of a conservat...  politicsNews   \n",
       "1  WASHINGTON (Reuters) - Transgender people will...  politicsNews   \n",
       "2  WASHINGTON (Reuters) - The special counsel inv...  politicsNews   \n",
       "3  WASHINGTON (Reuters) - Trump campaign adviser ...  politicsNews   \n",
       "4  SEATTLE/WASHINGTON (Reuters) - President Donal...  politicsNews   \n",
       "\n",
       "                 date  \n",
       "0  December 31, 2017   \n",
       "1  December 29, 2017   \n",
       "2  December 31, 2017   \n",
       "3  December 30, 2017   \n",
       "4  December 29, 2017   "
      ]
     },
     "execution_count": 8,
     "metadata": {},
     "output_type": "execute_result"
    }
   ],
   "source": [
    "true_data.head()"
   ]
  },
  {
   "cell_type": "code",
   "execution_count": 9,
   "id": "e170fafb-274a-4813-80a0-d606eb3e3559",
   "metadata": {},
   "outputs": [],
   "source": [
    "fake_data['label']=0\n",
    "fake_data.drop([\"subject\",\"title\",\"date\"],axis=1, inplace=True)"
   ]
  },
  {
   "cell_type": "code",
   "execution_count": 10,
   "id": "d751a07b-ced4-42d5-a17a-b01f577baf8b",
   "metadata": {},
   "outputs": [
    {
     "data": {
      "text/html": [
       "<div>\n",
       "<style scoped>\n",
       "    .dataframe tbody tr th:only-of-type {\n",
       "        vertical-align: middle;\n",
       "    }\n",
       "\n",
       "    .dataframe tbody tr th {\n",
       "        vertical-align: top;\n",
       "    }\n",
       "\n",
       "    .dataframe thead th {\n",
       "        text-align: right;\n",
       "    }\n",
       "</style>\n",
       "<table border=\"1\" class=\"dataframe\">\n",
       "  <thead>\n",
       "    <tr style=\"text-align: right;\">\n",
       "      <th></th>\n",
       "      <th>text</th>\n",
       "      <th>label</th>\n",
       "    </tr>\n",
       "  </thead>\n",
       "  <tbody>\n",
       "    <tr>\n",
       "      <th>0</th>\n",
       "      <td>Donald Trump just couldn t wish all Americans ...</td>\n",
       "      <td>0</td>\n",
       "    </tr>\n",
       "    <tr>\n",
       "      <th>1</th>\n",
       "      <td>House Intelligence Committee Chairman Devin Nu...</td>\n",
       "      <td>0</td>\n",
       "    </tr>\n",
       "    <tr>\n",
       "      <th>2</th>\n",
       "      <td>On Friday, it was revealed that former Milwauk...</td>\n",
       "      <td>0</td>\n",
       "    </tr>\n",
       "    <tr>\n",
       "      <th>3</th>\n",
       "      <td>On Christmas day, Donald Trump announced that ...</td>\n",
       "      <td>0</td>\n",
       "    </tr>\n",
       "    <tr>\n",
       "      <th>4</th>\n",
       "      <td>Pope Francis used his annual Christmas Day mes...</td>\n",
       "      <td>0</td>\n",
       "    </tr>\n",
       "  </tbody>\n",
       "</table>\n",
       "</div>"
      ],
      "text/plain": [
       "                                                text  label\n",
       "0  Donald Trump just couldn t wish all Americans ...      0\n",
       "1  House Intelligence Committee Chairman Devin Nu...      0\n",
       "2  On Friday, it was revealed that former Milwauk...      0\n",
       "3  On Christmas day, Donald Trump announced that ...      0\n",
       "4  Pope Francis used his annual Christmas Day mes...      0"
      ]
     },
     "execution_count": 10,
     "metadata": {},
     "output_type": "execute_result"
    }
   ],
   "source": [
    "fake_data.head()"
   ]
  },
  {
   "cell_type": "code",
   "execution_count": 15,
   "id": "feed8626-9ed5-401e-8c4a-91dc728c83d5",
   "metadata": {},
   "outputs": [],
   "source": [
    "true_data.drop(['label'],axis=1,inplace=True)\n",
    "true_data['label']=1\n"
   ]
  },
  {
   "cell_type": "code",
   "execution_count": 16,
   "id": "17203e2b-0dab-4d2b-93f8-250dd9b69781",
   "metadata": {},
   "outputs": [
    {
     "data": {
      "text/html": [
       "<div>\n",
       "<style scoped>\n",
       "    .dataframe tbody tr th:only-of-type {\n",
       "        vertical-align: middle;\n",
       "    }\n",
       "\n",
       "    .dataframe tbody tr th {\n",
       "        vertical-align: top;\n",
       "    }\n",
       "\n",
       "    .dataframe thead th {\n",
       "        text-align: right;\n",
       "    }\n",
       "</style>\n",
       "<table border=\"1\" class=\"dataframe\">\n",
       "  <thead>\n",
       "    <tr style=\"text-align: right;\">\n",
       "      <th></th>\n",
       "      <th>text</th>\n",
       "      <th>label</th>\n",
       "    </tr>\n",
       "  </thead>\n",
       "  <tbody>\n",
       "    <tr>\n",
       "      <th>0</th>\n",
       "      <td>WASHINGTON (Reuters) - The head of a conservat...</td>\n",
       "      <td>1</td>\n",
       "    </tr>\n",
       "    <tr>\n",
       "      <th>1</th>\n",
       "      <td>WASHINGTON (Reuters) - Transgender people will...</td>\n",
       "      <td>1</td>\n",
       "    </tr>\n",
       "    <tr>\n",
       "      <th>2</th>\n",
       "      <td>WASHINGTON (Reuters) - The special counsel inv...</td>\n",
       "      <td>1</td>\n",
       "    </tr>\n",
       "    <tr>\n",
       "      <th>3</th>\n",
       "      <td>WASHINGTON (Reuters) - Trump campaign adviser ...</td>\n",
       "      <td>1</td>\n",
       "    </tr>\n",
       "    <tr>\n",
       "      <th>4</th>\n",
       "      <td>SEATTLE/WASHINGTON (Reuters) - President Donal...</td>\n",
       "      <td>1</td>\n",
       "    </tr>\n",
       "  </tbody>\n",
       "</table>\n",
       "</div>"
      ],
      "text/plain": [
       "                                                text  label\n",
       "0  WASHINGTON (Reuters) - The head of a conservat...      1\n",
       "1  WASHINGTON (Reuters) - Transgender people will...      1\n",
       "2  WASHINGTON (Reuters) - The special counsel inv...      1\n",
       "3  WASHINGTON (Reuters) - Trump campaign adviser ...      1\n",
       "4  SEATTLE/WASHINGTON (Reuters) - President Donal...      1"
      ]
     },
     "execution_count": 16,
     "metadata": {},
     "output_type": "execute_result"
    }
   ],
   "source": [
    "true_data.head()"
   ]
  },
  {
   "cell_type": "code",
   "execution_count": 17,
   "id": "8ff2b225-ccf6-434d-a623-8fda21922f58",
   "metadata": {},
   "outputs": [],
   "source": [
    "data=pd.concat([true_data,fake_data],axis=0)"
   ]
  },
  {
   "cell_type": "code",
   "execution_count": 18,
   "id": "3237cdfc-fae5-4c4f-8624-aeffad1d9ee0",
   "metadata": {},
   "outputs": [
    {
     "data": {
      "text/html": [
       "<div>\n",
       "<style scoped>\n",
       "    .dataframe tbody tr th:only-of-type {\n",
       "        vertical-align: middle;\n",
       "    }\n",
       "\n",
       "    .dataframe tbody tr th {\n",
       "        vertical-align: top;\n",
       "    }\n",
       "\n",
       "    .dataframe thead th {\n",
       "        text-align: right;\n",
       "    }\n",
       "</style>\n",
       "<table border=\"1\" class=\"dataframe\">\n",
       "  <thead>\n",
       "    <tr style=\"text-align: right;\">\n",
       "      <th></th>\n",
       "      <th>text</th>\n",
       "      <th>label</th>\n",
       "    </tr>\n",
       "  </thead>\n",
       "  <tbody>\n",
       "    <tr>\n",
       "      <th>0</th>\n",
       "      <td>WASHINGTON (Reuters) - The head of a conservat...</td>\n",
       "      <td>1</td>\n",
       "    </tr>\n",
       "    <tr>\n",
       "      <th>1</th>\n",
       "      <td>WASHINGTON (Reuters) - Transgender people will...</td>\n",
       "      <td>1</td>\n",
       "    </tr>\n",
       "    <tr>\n",
       "      <th>2</th>\n",
       "      <td>WASHINGTON (Reuters) - The special counsel inv...</td>\n",
       "      <td>1</td>\n",
       "    </tr>\n",
       "    <tr>\n",
       "      <th>3</th>\n",
       "      <td>WASHINGTON (Reuters) - Trump campaign adviser ...</td>\n",
       "      <td>1</td>\n",
       "    </tr>\n",
       "    <tr>\n",
       "      <th>4</th>\n",
       "      <td>SEATTLE/WASHINGTON (Reuters) - President Donal...</td>\n",
       "      <td>1</td>\n",
       "    </tr>\n",
       "  </tbody>\n",
       "</table>\n",
       "</div>"
      ],
      "text/plain": [
       "                                                text  label\n",
       "0  WASHINGTON (Reuters) - The head of a conservat...      1\n",
       "1  WASHINGTON (Reuters) - Transgender people will...      1\n",
       "2  WASHINGTON (Reuters) - The special counsel inv...      1\n",
       "3  WASHINGTON (Reuters) - Trump campaign adviser ...      1\n",
       "4  SEATTLE/WASHINGTON (Reuters) - President Donal...      1"
      ]
     },
     "execution_count": 18,
     "metadata": {},
     "output_type": "execute_result"
    }
   ],
   "source": [
    "data.head()"
   ]
  },
  {
   "cell_type": "code",
   "execution_count": 19,
   "id": "3a78d04b-4e3f-4dda-803b-46e1de436df0",
   "metadata": {},
   "outputs": [
    {
     "data": {
      "text/html": [
       "<div>\n",
       "<style scoped>\n",
       "    .dataframe tbody tr th:only-of-type {\n",
       "        vertical-align: middle;\n",
       "    }\n",
       "\n",
       "    .dataframe tbody tr th {\n",
       "        vertical-align: top;\n",
       "    }\n",
       "\n",
       "    .dataframe thead th {\n",
       "        text-align: right;\n",
       "    }\n",
       "</style>\n",
       "<table border=\"1\" class=\"dataframe\">\n",
       "  <thead>\n",
       "    <tr style=\"text-align: right;\">\n",
       "      <th></th>\n",
       "      <th>text</th>\n",
       "      <th>label</th>\n",
       "    </tr>\n",
       "  </thead>\n",
       "  <tbody>\n",
       "    <tr>\n",
       "      <th>0</th>\n",
       "      <td>WASHINGTON (Reuters) - The head of a conservat...</td>\n",
       "      <td>1</td>\n",
       "    </tr>\n",
       "    <tr>\n",
       "      <th>1</th>\n",
       "      <td>WASHINGTON (Reuters) - Transgender people will...</td>\n",
       "      <td>1</td>\n",
       "    </tr>\n",
       "    <tr>\n",
       "      <th>2</th>\n",
       "      <td>WASHINGTON (Reuters) - The special counsel inv...</td>\n",
       "      <td>1</td>\n",
       "    </tr>\n",
       "    <tr>\n",
       "      <th>3</th>\n",
       "      <td>WASHINGTON (Reuters) - Trump campaign adviser ...</td>\n",
       "      <td>1</td>\n",
       "    </tr>\n",
       "    <tr>\n",
       "      <th>4</th>\n",
       "      <td>SEATTLE/WASHINGTON (Reuters) - President Donal...</td>\n",
       "      <td>1</td>\n",
       "    </tr>\n",
       "    <tr>\n",
       "      <th>...</th>\n",
       "      <td>...</td>\n",
       "      <td>...</td>\n",
       "    </tr>\n",
       "    <tr>\n",
       "      <th>23476</th>\n",
       "      <td>21st Century Wire says As 21WIRE reported earl...</td>\n",
       "      <td>0</td>\n",
       "    </tr>\n",
       "    <tr>\n",
       "      <th>23477</th>\n",
       "      <td>21st Century Wire says It s a familiar theme. ...</td>\n",
       "      <td>0</td>\n",
       "    </tr>\n",
       "    <tr>\n",
       "      <th>23478</th>\n",
       "      <td>Patrick Henningsen  21st Century WireRemember ...</td>\n",
       "      <td>0</td>\n",
       "    </tr>\n",
       "    <tr>\n",
       "      <th>23479</th>\n",
       "      <td>21st Century Wire says Al Jazeera America will...</td>\n",
       "      <td>0</td>\n",
       "    </tr>\n",
       "    <tr>\n",
       "      <th>23480</th>\n",
       "      <td>21st Century Wire says As 21WIRE predicted in ...</td>\n",
       "      <td>0</td>\n",
       "    </tr>\n",
       "  </tbody>\n",
       "</table>\n",
       "<p>44898 rows × 2 columns</p>\n",
       "</div>"
      ],
      "text/plain": [
       "                                                    text  label\n",
       "0      WASHINGTON (Reuters) - The head of a conservat...      1\n",
       "1      WASHINGTON (Reuters) - Transgender people will...      1\n",
       "2      WASHINGTON (Reuters) - The special counsel inv...      1\n",
       "3      WASHINGTON (Reuters) - Trump campaign adviser ...      1\n",
       "4      SEATTLE/WASHINGTON (Reuters) - President Donal...      1\n",
       "...                                                  ...    ...\n",
       "23476  21st Century Wire says As 21WIRE reported earl...      0\n",
       "23477  21st Century Wire says It s a familiar theme. ...      0\n",
       "23478  Patrick Henningsen  21st Century WireRemember ...      0\n",
       "23479  21st Century Wire says Al Jazeera America will...      0\n",
       "23480  21st Century Wire says As 21WIRE predicted in ...      0\n",
       "\n",
       "[44898 rows x 2 columns]"
      ]
     },
     "execution_count": 19,
     "metadata": {},
     "output_type": "execute_result"
    }
   ],
   "source": [
    "data"
   ]
  },
  {
   "cell_type": "markdown",
   "id": "cbe80226-d877-482f-9030-979ce1527e68",
   "metadata": {},
   "source": [
    "While the fake and real news were in two separate files, we first dropped 3 unnecessary information such as date, title and subject,\n",
    "and then combined the two data groups in one place. Thus, we will be able to use a single train test split with model selection. \n",
    "By the way, we marked true news with 1 and false news with 0. This is how the machine will distinguish true and false \n",
    "news during NLP"
   ]
  },
  {
   "cell_type": "code",
   "execution_count": 20,
   "id": "112b46ad-0b65-4387-b2f1-71d8163a4171",
   "metadata": {},
   "outputs": [],
   "source": [
    "X=data.iloc[:,0].values\n",
    "y=data.iloc[:,1].values"
   ]
  },
  {
   "cell_type": "markdown",
   "id": "cc2f3086-3607-4bfc-80c7-a5fe551a8279",
   "metadata": {},
   "source": [
    "### train test split"
   ]
  },
  {
   "cell_type": "code",
   "execution_count": 21,
   "id": "02d4fb50-e2fa-43cd-a146-8759b6398606",
   "metadata": {},
   "outputs": [],
   "source": [
    "from sklearn.model_selection import train_test_split"
   ]
  },
  {
   "cell_type": "code",
   "execution_count": 22,
   "id": "315661d9-9233-45fa-b4e1-accbede1e755",
   "metadata": {},
   "outputs": [],
   "source": [
    "X_train, X_test, y_train, y_test=train_test_split(X,y,random_state=1,test_size=0.2)"
   ]
  },
  {
   "cell_type": "code",
   "execution_count": 23,
   "id": "414bfe54-40f7-4cdc-a9e7-edd3da634703",
   "metadata": {},
   "outputs": [
    {
     "data": {
      "text/plain": [
       "array(['UNITED NATIONS (Reuters) - The Iran nuclear deal must be changed if the United States is to remain in it, the top U.S. diplomat said on Tuesday, suggesting its key limits on the Iranian nuclear program must be extended.  Making his debut appearance at the annual United Nations General Assembly, U.S. President Donald Trump accused Iran of exporting  violence, bloodshed and chaos  and of seeking to project its influence in Yemen, Syria and elsewhere in a region rife with sectarian conflicts between Sunni and Shi ite Muslims.  We cannot let a murderous regime continue these destabilizing activities while building dangerous missiles, and we cannot abide by an agreement if it provides cover for the eventual construction of a nuclear program,  Trump said. He saved his harshest words for the 2015 pact struck by Iran and six major world powers under which Tehran agreed to restrict its nuclear program in return for loosening economic sanctions.  The Iran deal was one of the worst and most one-sided transactions the United States has ever entered into. Frankly, that deal is an embarrassment to the United States, and I don t think you ve heard the last of it - believe me,  Trump said. His chief diplomat, Secretary of State Rex Tillerson, went further, telling Fox News that the agreement must be changed or the United States could not stick with it. Tillerson said the  sunset  clauses, under which some of the deal s restrictions on Iran s nuclear program expire from 2025, were of particular concern.  If we re going to stick with the Iran deal there has to be changes made to it. The sunset provisions simply is not a sensible way forward,  he said.  It s just simply ... kicking the can down the road again for someone in the future to have to deal with,  he added. In contrast, French President Emmanuel Macron praised the agreement during his speech and said it was inconceivable to abandon it.  Renouncing it would be a grave error, not respecting it would be irresponsible, because it is a good accord that is essential to peace at a time where the risk of an infernal conflagration cannot be excluded,  Macron said. The French president said he understood U.S. concerns but thought the way to address them was to open up a negotiation designed to extend limits on its nuclear program beyond 2025. Macron and other supporters of the accord say weakening or scrapping the deal would add fuel to a regional powder keg and deter North Korea from negotiating on its nuclear program. The July 14, 2015 accord aims, for a decade, to extend the amount of time it would theoretically take Iran to produce enough fissile material for an atomic bomb - so-called breakout time - from several months to a minimum of one year. Critics of the deal, including Israeli Prime Minister Benjamin Netanyahu, worry that, once the main restrictions on Iran s nuclear program expire in 10 to 15 years, Tehran will be in a position to quickly develop an atomic weapon, if it wishes. Iran responded angrily to Trump s remarks.  Trump s ignorant hate speech belongs in medieval times - not the 21st Century UN - unworthy of a reply,  Iranian Foreign Minister Mohammad Javad Zarif, Iran s lead negotiator for the nuclear agreement, said on Twitter. The U.S. president must decide by Oct. 15 whether to certify that Iran is complying with the pact, a decision that could sink the deal. If he does not, the U.S. Congress has 60 days to decide whether to reimpose sanctions waived under the deal. Netanyahu was also unsparing in his criticism of the nuclear pact, though Israeli officials privately admit that having some restrictions on Iran s program are better than none.  Change it, or cancel it. Fix it, or nix it,  Netanyahu said in his U.N. speech, saying the most important change was to eliminate the  sunset  clauses. The Obama administration had said the deal would ensure long-term scrutiny of Iran to deter it from developing a bomb, a view echoed by Macron on Tuesday as he noted its monitoring by the International Atomic Energy Agency (IAEA) U.N. nuclear watchdog. Trump s pugnacious U.N. speech may empower hard-liners in Iran, who are pushing for global isolation and who discourage already wary foreign investors. His stance, unlike Obama s offer of an olive branch, could serve the hard-liners loyal to Iran s most powerful authority, Supreme Leader Ayatollah Ali Khamenei.  Such Khamenei allies, including Iran s Revolutionary Guards (IRGC), some powerful clerics and influential politicians, are wary of any detente with the West which could imperil the Islamic Revolution and undermine their economic interests. The nuclear deal was negotiated with Iran by the United States, Russia, China, Britain, Germany and France. The six will meet with Iran at the ministerial level on Wednesday. ',\n",
       "       'Donald Trump hates Jeff Bezos, the CEO of Amazon, the world s number one online retailer. Trump doesn t hate Bezos because he received a package late or even because (as he claims) Amazon is responsible for a lot of brick and mortar stores closing down. Trump hates Bezos because the Amazon boss also owns the Washington Post, a newspaper that has been relentlessly following the Trump/Russia story.On Wednesday, Trump lashed out at Bezos via Twitter, causing Amazon stocks to significantly dip, before rebounding.Amazon is doing great damage to tax paying retailers. Towns, cities and states throughout the U.S. are being hurt   many jobs being lost!  Donald J. Trump (@realDonaldTrump) August 16, 2017This tantrum caused Amazon s stocks to lose 1.2 percent of their value before going back up and then back down a far more modest .4 percent.Don t let Trump s sudden concern for small businesses fool you. It s all about revenge for the Washington Post. In the past, Trump has wrongfully accused Amazon of not paying taxes, which is rich from the White House occupant who refuses to show his tax returns.Trump has also accused Bezos of using the Washington Post as a tax shelter, despite the fact that the Washington Post is completely separate from Amazon.This is far from the first time Trump has lashed out as companies whose CEOs have someone offended the thin-skinned dictator.He went after Lockheed Martin, whose stock quickly tumbled:Based on the tremendous cost and cost overruns of the Lockheed Martin F-35, I have asked Boeing to price-out a comparable F-18 Super Hornet!  Donald J. Trump (@realDonaldTrump) December 22, 2016On Monday, he attacked Merck Pharmaceutical because their CEO, Ken Frazier, dared resign from Trump s manufacturing council after Trump s offensive reactions to the racists who held a violent march in Charlottesville, VA.Now that Ken Frazier of Merck Pharma has resigned from President s Manufacturing Council,he will have more time to LOWER RIPOFF DRUG PRICES!  Donald J. Trump (@realDonaldTrump) August 14, 2017While this might not be technically illegal, manipulating the stock market via the bully pulpit is highly unethical. It s coercion. It s anti-free market. Trump s Twitter account needs to be shut down. Now.The upside, though, is that when Trump tweeted complaining about Boeing before he took office, its stock took a major dive. By contrast, his recent tweets have had a much, much more modest effect. In other words, very few people are taking the Blusterer in Chief seriously.Featured image via Drew Angerer/Getty Images',\n",
       "       'Nah nah nah nah hey hey hey good bye Support for Hillary Clinton among Democratic voters under 50 has tanked in the past month, according to a new Monmouth University poll.In December, she led fellow Democratic presidential contender Sen. Bernie Sanders, I-Vt., 52%-35% in that demographic. Now she trails him 39%-52%.She also has lost significant support among Democratic women, with her lead over Sanders shrinking from 45 points to 19 points in that group. Her support went from 64%-19% last month to 54%-35% now.Clinton still beats Sanders 52%-37% overall among Democrats, though Sanders  gains have cut into her lead, Monmouth found. And she has considerable support among important primary voting blocs. Voters over 50 prefer Clinton 64%-24%, and black and Latino voters side with her 71%-21%. With a shrinking margin, a strong showing by Sanders in Iowa and New Hampshire could cut Clinton s national lead even more,  said Patrick Murray, director of the Monmouth survey.  However, he would still have to overcome Clinton s demographic advantage in the ensuing contests. That means in places like South Carolina, Nevada and Super Tuesday states in the South where blacks and Latinos make up a sizable portion of the electorate. Murray points out that the same situation helped President Obama beat Clinton. It looks like the demographic that hurt Clinton in 2008 may be what helps her in 2016,  he said.Last week, Sanders  campaign announced it was launching a tour of historically black colleges and universities with stops in a number of Southern states.The Monmouth measurement of Sanders s support among young people resembles the results of a recent USA TODAY/Rock the Vote survey that found he leads Clinton 46%-35%, among millennial Democrats and independents. Via: USA TodayDear Hillary, Here s a message from every American who watched you lie about the 4 brave men you left to die in Benghazi: ',\n",
       "       ...,\n",
       "       'WASHINGTON (Reuters) - The White House counsel’s office has sent a memo instructing President Donald Trump’s aides to preserve materials that could be connected to suspected Russian interference in the 2016 election and related issues, an administration official said on Wednesday. The official, who spoke on condition of anonymity, confirmed an Associated Press report on the memo. AP, citing administration officials, said the memo was sent on Tuesday. U.S. intelligence agencies have concluded that Russia sought to influence the presidential election to help Trump defeat Democrat Hillary Clinton. Congressional committees are investigating Russia’s role in hacking Democratic Party computers and releasing the information publicly. Federal investigators have been looking into possible contacts between Trump advisers and Russia.     Senate Democrats last week asked the White House and law enforcement agencies to keep all materials involving contacts between Trump’s team and Russian officials, AP said. The Senate Intelligence Committee made a similar request, the AP said. ',\n",
       "       'BRUSSELS (Reuters) - The European Union agreed on Friday to move Brexit talks onto trade and a transition pact but some leaders cautioned that the final year of divorce negotiations before Britain s exit could be fraught with peril. EU leaders, who had offered British Prime Minister Theresa May a rare summit round of applause over dinner in Brussels the night before, took just 10 minutes to agree that she had made  sufficient progress  on divorce terms last week and to give negotiators a mandate to move on to the main phase of talks.  This is an important step on the road to delivering the smooth and orderly Brexit that people voted for in June of last year,  May said outside her home in Berkshire, southern England.  There is still more to do but we re well on the road to delivering a Brexit that will make Britain prosperous, strong and secure,  May said, reassuring her party s ardent Brexit supporters that departure is certain on March 29, 2019. Summit chair Donald Tusk said the world s biggest trading bloc would start  exploratory contacts  with Britain on what London wants in a future trade relationship, as well as starting discussion on the immediate post-Brexit transition. A transition period is crucial for investors and businesses who fear that a  cliff-edge  Brexit would disrupt trade flows and sow chaos through financial markets.  The head of the EU executive, Jean-Claude Juncker, cast May as a  tough, smart, polite and friendly negotiator    a polite nod to a woman facing ferocious and complex pressures at home, whose downfall Brussels fears would complicate talks further. Juncker, a veteran premier of Luxembourg, knows  what it s like to be a prime minister in trouble , one EU official said. While there was a  sigh of relief  at the summit table that Brexit talks can move forward, EU leaders said talks on a future free trade pact will not begin until after March   a date underlined by  guidelines  that set out how to proceed as Britain seeks to unravel more than 40 years of membership. The talks will be tough.   We have made good progress, the second phase of talks can start,  German Chancellor Angela Merkel said.  But this will mean even tougher work - that was clear today in the discussion - than we have experienced so far.   Sterling GBP=D3 reversed gains and fell 0.8 percent on the day to $1.3327. Austrian Chancellor Christian Kern went further, saying even a primary school student could see that the  first phase  deal on the Irish border would come back to haunt the talks because it was impossible for Britain to leave the bloc s single market while avoiding a hard border on the island of Ireland.  Our primary school students can see that there is a riddle to be solved,  the Austrian leader told reporters. In more formal language, leaders used the nine-point guidelines they agreed at the summit to support May s call for a two-year transition out of the bloc, which aims to help British business and citizens adjust to life after the European Union. Both sides see it as looking pretty much like membership of the EU without a say in its rules, though there are also a host of issues that will again demonstrate the complexity of Brexit. Leaders reiterated their position that Britain cannot conclude a free-trade accord with the European Union until it has left and become a  third country . And it may take longer than the 15 months from now that some in London are hoping for. Noting a call from Britain s Brexit Secretary David Davis for a  Canada plus plus plus  deal that would go beyond the pact the EU signed with Ottawa, one senior EU official noted that last year s agreement ran to 1,598 pages of legal text.  Nine months on Brexit have produced 15 pages of non-legal text,  he said, adding that even launching trade talks in March would be  quite ambitious , let alone completing them in 2019. In coded language aimed at ensuring that Britain s departure will not set a precedent for others and further undermine the bloc, leaders also agreed to  ensure a balance of rights and obligations  during Britain s transition period. The question of how Britain might continue to benefit from the EU s free trade deals with other countries, such as Canada or Japan, has yet to be settled legally, EU officials said. Irish Prime Minister Leo Varadkar cautioned that there were  quite divergent opinions  on how a new relationship and transition would look. EU officials are unsure exactly how far Britain should continue to receive the full, unfettered economic benefits of EU membership during a transition after it leaves, even if it loses political representation in Brussels. May, weakened after losing her Conservative Party s majority in a June election, has so far carried her divided government and party with her as she negotiated the first phase of talks. But the next, more decisive phase is likely to lay bare the deep rifts among her top team of ministers over what Britain should become after Brexit. The Dutch, traditionally British allies, said May should explain to voters just what the cost of leaving the EU s single market and customs union would mean for the economy.  It means, for example, that the financial sector of London will have a considerable disadvantage to the position they have now,  Prime Minister Mark Rutte said. ',\n",
       "       '.@Nigel_Farage tells the #CPAC2017 crowd his favourite part of 2016. https://t.co/DLpxYP8rPW  CPAC 2017 (@CPAC) February 24, 2017FULL SPEECH:'],\n",
       "      dtype=object)"
      ]
     },
     "execution_count": 23,
     "metadata": {},
     "output_type": "execute_result"
    }
   ],
   "source": [
    "X_train"
   ]
  },
  {
   "cell_type": "code",
   "execution_count": 24,
   "id": "8429f9f6-2ec6-41c9-beb9-8fa683047f41",
   "metadata": {},
   "outputs": [],
   "source": [
    "from sklearn.feature_extraction.text import CountVectorizer\n",
    "cv=CountVectorizer()\n",
    "cv_1=cv.fit_transform(X_train)"
   ]
  },
  {
   "cell_type": "code",
   "execution_count": 25,
   "id": "99d3354c-410a-41a6-b4b2-59023700f99a",
   "metadata": {},
   "outputs": [],
   "source": [
    "from sklearn.ensemble import RandomForestClassifier\n",
    "rf=RandomForestClassifier()\n",
    "rf.fit(cv_1,y_train)\n",
    "y_pred_randomForest=rf.predict(cv.transform(X_test))"
   ]
  },
  {
   "cell_type": "code",
   "execution_count": 26,
   "id": "f3a20f5c-895f-4463-b440-441f95062867",
   "metadata": {},
   "outputs": [],
   "source": [
    "from sklearn.metrics import confusion_matrix, accuracy_score"
   ]
  },
  {
   "cell_type": "code",
   "execution_count": 27,
   "id": "77dcbef8-3aae-4f64-8d16-daf78dd414e9",
   "metadata": {},
   "outputs": [
    {
     "data": {
      "text/plain": [
       "array([[4641,   37],\n",
       "       [  39, 4263]], dtype=int64)"
      ]
     },
     "execution_count": 27,
     "metadata": {},
     "output_type": "execute_result"
    }
   ],
   "source": [
    "cm=confusion_matrix(y_test,y_pred_randomForest)\n",
    "cm"
   ]
  },
  {
   "cell_type": "code",
   "execution_count": 28,
   "id": "31f75918-e232-409d-8332-7a82efa2b205",
   "metadata": {},
   "outputs": [
    {
     "data": {
      "text/plain": [
       "0.9915367483296214"
      ]
     },
     "execution_count": 28,
     "metadata": {},
     "output_type": "execute_result"
    }
   ],
   "source": [
    "accscore=accuracy_score(y_test,y_pred_randomForest)\n",
    "accscore"
   ]
  },
  {
   "cell_type": "code",
   "execution_count": null,
   "id": "4f0ad8d0-da44-451f-bf9a-ea70232eb83e",
   "metadata": {},
   "outputs": [],
   "source": []
  }
 ],
 "metadata": {
  "kernelspec": {
   "display_name": "Python 3 (ipykernel)",
   "language": "python",
   "name": "python3"
  },
  "language_info": {
   "codemirror_mode": {
    "name": "ipython",
    "version": 3
   },
   "file_extension": ".py",
   "mimetype": "text/x-python",
   "name": "python",
   "nbconvert_exporter": "python",
   "pygments_lexer": "ipython3",
   "version": "3.11.7"
  }
 },
 "nbformat": 4,
 "nbformat_minor": 5
}
