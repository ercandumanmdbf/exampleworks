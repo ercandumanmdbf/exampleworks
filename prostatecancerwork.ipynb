{
 "cells": [
  {
   "cell_type": "code",
   "execution_count": 3,
   "id": "8514d043-43d2-46f8-95cd-3688258be2f6",
   "metadata": {
    "tags": []
   },
   "outputs": [],
   "source": [
    "import pandas as pd\n",
    "import numpy as np\n",
    "import matplotlib.pyplot as plt"
   ]
  },
  {
   "cell_type": "code",
   "execution_count": 5,
   "id": "bef13a5c-bc04-439c-aa99-3f66f92fe0c4",
   "metadata": {
    "tags": []
   },
   "outputs": [],
   "source": [
    "data=pd.read_csv(\"Prostate_Cancer.csv\")"
   ]
  },
  {
   "cell_type": "code",
   "execution_count": 7,
   "id": "b61f0cd5-56b0-48ea-92a4-d273345daeda",
   "metadata": {
    "tags": []
   },
   "outputs": [
    {
     "data": {
      "text/html": [
       "<div>\n",
       "<style scoped>\n",
       "    .dataframe tbody tr th:only-of-type {\n",
       "        vertical-align: middle;\n",
       "    }\n",
       "\n",
       "    .dataframe tbody tr th {\n",
       "        vertical-align: top;\n",
       "    }\n",
       "\n",
       "    .dataframe thead th {\n",
       "        text-align: right;\n",
       "    }\n",
       "</style>\n",
       "<table border=\"1\" class=\"dataframe\">\n",
       "  <thead>\n",
       "    <tr style=\"text-align: right;\">\n",
       "      <th></th>\n",
       "      <th>id</th>\n",
       "      <th>diagnosis_result</th>\n",
       "      <th>radius</th>\n",
       "      <th>texture</th>\n",
       "      <th>perimeter</th>\n",
       "      <th>area</th>\n",
       "      <th>smoothness</th>\n",
       "      <th>compactness</th>\n",
       "      <th>symmetry</th>\n",
       "      <th>fractal_dimension</th>\n",
       "    </tr>\n",
       "  </thead>\n",
       "  <tbody>\n",
       "    <tr>\n",
       "      <th>0</th>\n",
       "      <td>1</td>\n",
       "      <td>M</td>\n",
       "      <td>23</td>\n",
       "      <td>12</td>\n",
       "      <td>151</td>\n",
       "      <td>954</td>\n",
       "      <td>0.143</td>\n",
       "      <td>0.278</td>\n",
       "      <td>0.242</td>\n",
       "      <td>0.079</td>\n",
       "    </tr>\n",
       "    <tr>\n",
       "      <th>1</th>\n",
       "      <td>2</td>\n",
       "      <td>B</td>\n",
       "      <td>9</td>\n",
       "      <td>13</td>\n",
       "      <td>133</td>\n",
       "      <td>1326</td>\n",
       "      <td>0.143</td>\n",
       "      <td>0.079</td>\n",
       "      <td>0.181</td>\n",
       "      <td>0.057</td>\n",
       "    </tr>\n",
       "    <tr>\n",
       "      <th>2</th>\n",
       "      <td>3</td>\n",
       "      <td>M</td>\n",
       "      <td>21</td>\n",
       "      <td>27</td>\n",
       "      <td>130</td>\n",
       "      <td>1203</td>\n",
       "      <td>0.125</td>\n",
       "      <td>0.160</td>\n",
       "      <td>0.207</td>\n",
       "      <td>0.060</td>\n",
       "    </tr>\n",
       "    <tr>\n",
       "      <th>3</th>\n",
       "      <td>4</td>\n",
       "      <td>M</td>\n",
       "      <td>14</td>\n",
       "      <td>16</td>\n",
       "      <td>78</td>\n",
       "      <td>386</td>\n",
       "      <td>0.070</td>\n",
       "      <td>0.284</td>\n",
       "      <td>0.260</td>\n",
       "      <td>0.097</td>\n",
       "    </tr>\n",
       "    <tr>\n",
       "      <th>4</th>\n",
       "      <td>5</td>\n",
       "      <td>M</td>\n",
       "      <td>9</td>\n",
       "      <td>19</td>\n",
       "      <td>135</td>\n",
       "      <td>1297</td>\n",
       "      <td>0.141</td>\n",
       "      <td>0.133</td>\n",
       "      <td>0.181</td>\n",
       "      <td>0.059</td>\n",
       "    </tr>\n",
       "  </tbody>\n",
       "</table>\n",
       "</div>"
      ],
      "text/plain": [
       "   id diagnosis_result  radius  texture  perimeter  area  smoothness  \\\n",
       "0   1                M      23       12        151   954       0.143   \n",
       "1   2                B       9       13        133  1326       0.143   \n",
       "2   3                M      21       27        130  1203       0.125   \n",
       "3   4                M      14       16         78   386       0.070   \n",
       "4   5                M       9       19        135  1297       0.141   \n",
       "\n",
       "   compactness  symmetry  fractal_dimension  \n",
       "0        0.278     0.242              0.079  \n",
       "1        0.079     0.181              0.057  \n",
       "2        0.160     0.207              0.060  \n",
       "3        0.284     0.260              0.097  \n",
       "4        0.133     0.181              0.059  "
      ]
     },
     "execution_count": 7,
     "metadata": {},
     "output_type": "execute_result"
    }
   ],
   "source": [
    "data.head()"
   ]
  },
  {
   "cell_type": "code",
   "execution_count": 9,
   "id": "4fae0f7b-271b-43be-8b5c-bbca1649be80",
   "metadata": {
    "tags": []
   },
   "outputs": [
    {
     "name": "stdout",
     "output_type": "stream",
     "text": [
      "<class 'pandas.core.frame.DataFrame'>\n",
      "RangeIndex: 100 entries, 0 to 99\n",
      "Data columns (total 10 columns):\n",
      " #   Column             Non-Null Count  Dtype  \n",
      "---  ------             --------------  -----  \n",
      " 0   id                 100 non-null    int64  \n",
      " 1   diagnosis_result   100 non-null    object \n",
      " 2   radius             100 non-null    int64  \n",
      " 3   texture            100 non-null    int64  \n",
      " 4   perimeter          100 non-null    int64  \n",
      " 5   area               100 non-null    int64  \n",
      " 6   smoothness         100 non-null    float64\n",
      " 7   compactness        100 non-null    float64\n",
      " 8   symmetry           100 non-null    float64\n",
      " 9   fractal_dimension  100 non-null    float64\n",
      "dtypes: float64(4), int64(5), object(1)\n",
      "memory usage: 7.9+ KB\n"
     ]
    }
   ],
   "source": [
    "data.info()"
   ]
  },
  {
   "cell_type": "markdown",
   "id": "14dc1d81-f787-421c-9b1c-8946515cb34c",
   "metadata": {},
   "source": [
    "there is not a null object inside the database. so we dont need to drop or fill the missing values"
   ]
  },
  {
   "cell_type": "code",
   "execution_count": 14,
   "id": "f59c46ac-5dfc-4cab-a1ee-2ff797b55b81",
   "metadata": {
    "tags": []
   },
   "outputs": [
    {
     "data": {
      "text/html": [
       "<div>\n",
       "<style scoped>\n",
       "    .dataframe tbody tr th:only-of-type {\n",
       "        vertical-align: middle;\n",
       "    }\n",
       "\n",
       "    .dataframe tbody tr th {\n",
       "        vertical-align: top;\n",
       "    }\n",
       "\n",
       "    .dataframe thead th {\n",
       "        text-align: right;\n",
       "    }\n",
       "</style>\n",
       "<table border=\"1\" class=\"dataframe\">\n",
       "  <thead>\n",
       "    <tr style=\"text-align: right;\">\n",
       "      <th></th>\n",
       "      <th>count</th>\n",
       "      <th>mean</th>\n",
       "      <th>std</th>\n",
       "      <th>min</th>\n",
       "      <th>25%</th>\n",
       "      <th>50%</th>\n",
       "      <th>75%</th>\n",
       "      <th>max</th>\n",
       "    </tr>\n",
       "  </thead>\n",
       "  <tbody>\n",
       "    <tr>\n",
       "      <th>id</th>\n",
       "      <td>100.0</td>\n",
       "      <td>50.50000</td>\n",
       "      <td>29.011492</td>\n",
       "      <td>1.000</td>\n",
       "      <td>25.7500</td>\n",
       "      <td>50.5000</td>\n",
       "      <td>75.250</td>\n",
       "      <td>100.000</td>\n",
       "    </tr>\n",
       "    <tr>\n",
       "      <th>radius</th>\n",
       "      <td>100.0</td>\n",
       "      <td>16.85000</td>\n",
       "      <td>4.879094</td>\n",
       "      <td>9.000</td>\n",
       "      <td>12.0000</td>\n",
       "      <td>17.0000</td>\n",
       "      <td>21.000</td>\n",
       "      <td>25.000</td>\n",
       "    </tr>\n",
       "    <tr>\n",
       "      <th>texture</th>\n",
       "      <td>100.0</td>\n",
       "      <td>18.23000</td>\n",
       "      <td>5.192954</td>\n",
       "      <td>11.000</td>\n",
       "      <td>14.0000</td>\n",
       "      <td>17.5000</td>\n",
       "      <td>22.250</td>\n",
       "      <td>27.000</td>\n",
       "    </tr>\n",
       "    <tr>\n",
       "      <th>perimeter</th>\n",
       "      <td>100.0</td>\n",
       "      <td>96.78000</td>\n",
       "      <td>23.676089</td>\n",
       "      <td>52.000</td>\n",
       "      <td>82.5000</td>\n",
       "      <td>94.0000</td>\n",
       "      <td>114.250</td>\n",
       "      <td>172.000</td>\n",
       "    </tr>\n",
       "    <tr>\n",
       "      <th>area</th>\n",
       "      <td>100.0</td>\n",
       "      <td>702.88000</td>\n",
       "      <td>319.710895</td>\n",
       "      <td>202.000</td>\n",
       "      <td>476.7500</td>\n",
       "      <td>644.0000</td>\n",
       "      <td>917.000</td>\n",
       "      <td>1878.000</td>\n",
       "    </tr>\n",
       "    <tr>\n",
       "      <th>smoothness</th>\n",
       "      <td>100.0</td>\n",
       "      <td>0.10273</td>\n",
       "      <td>0.014642</td>\n",
       "      <td>0.070</td>\n",
       "      <td>0.0935</td>\n",
       "      <td>0.1020</td>\n",
       "      <td>0.112</td>\n",
       "      <td>0.143</td>\n",
       "    </tr>\n",
       "    <tr>\n",
       "      <th>compactness</th>\n",
       "      <td>100.0</td>\n",
       "      <td>0.12670</td>\n",
       "      <td>0.061144</td>\n",
       "      <td>0.038</td>\n",
       "      <td>0.0805</td>\n",
       "      <td>0.1185</td>\n",
       "      <td>0.157</td>\n",
       "      <td>0.345</td>\n",
       "    </tr>\n",
       "    <tr>\n",
       "      <th>symmetry</th>\n",
       "      <td>100.0</td>\n",
       "      <td>0.19317</td>\n",
       "      <td>0.030785</td>\n",
       "      <td>0.135</td>\n",
       "      <td>0.1720</td>\n",
       "      <td>0.1900</td>\n",
       "      <td>0.209</td>\n",
       "      <td>0.304</td>\n",
       "    </tr>\n",
       "    <tr>\n",
       "      <th>fractal_dimension</th>\n",
       "      <td>100.0</td>\n",
       "      <td>0.06469</td>\n",
       "      <td>0.008151</td>\n",
       "      <td>0.053</td>\n",
       "      <td>0.0590</td>\n",
       "      <td>0.0630</td>\n",
       "      <td>0.069</td>\n",
       "      <td>0.097</td>\n",
       "    </tr>\n",
       "  </tbody>\n",
       "</table>\n",
       "</div>"
      ],
      "text/plain": [
       "                   count       mean         std      min       25%       50%  \\\n",
       "id                 100.0   50.50000   29.011492    1.000   25.7500   50.5000   \n",
       "radius             100.0   16.85000    4.879094    9.000   12.0000   17.0000   \n",
       "texture            100.0   18.23000    5.192954   11.000   14.0000   17.5000   \n",
       "perimeter          100.0   96.78000   23.676089   52.000   82.5000   94.0000   \n",
       "area               100.0  702.88000  319.710895  202.000  476.7500  644.0000   \n",
       "smoothness         100.0    0.10273    0.014642    0.070    0.0935    0.1020   \n",
       "compactness        100.0    0.12670    0.061144    0.038    0.0805    0.1185   \n",
       "symmetry           100.0    0.19317    0.030785    0.135    0.1720    0.1900   \n",
       "fractal_dimension  100.0    0.06469    0.008151    0.053    0.0590    0.0630   \n",
       "\n",
       "                       75%       max  \n",
       "id                  75.250   100.000  \n",
       "radius              21.000    25.000  \n",
       "texture             22.250    27.000  \n",
       "perimeter          114.250   172.000  \n",
       "area               917.000  1878.000  \n",
       "smoothness           0.112     0.143  \n",
       "compactness          0.157     0.345  \n",
       "symmetry             0.209     0.304  \n",
       "fractal_dimension    0.069     0.097  "
      ]
     },
     "execution_count": 14,
     "metadata": {},
     "output_type": "execute_result"
    }
   ],
   "source": [
    "data.describe().T"
   ]
  },
  {
   "cell_type": "markdown",
   "id": "8896a4d8-1381-42ed-8806-6649a033c14d",
   "metadata": {},
   "source": [
    "we dont need to id coloumn inside the model and need to drop the \"id\""
   ]
  },
  {
   "cell_type": "code",
   "execution_count": 17,
   "id": "3c1cbbb3-faef-493b-821b-f2a653f002b5",
   "metadata": {
    "tags": []
   },
   "outputs": [],
   "source": [
    "data = data.drop(['id'], axis=1)"
   ]
  },
  {
   "cell_type": "code",
   "execution_count": 19,
   "id": "846b06e1-f93a-4668-9b78-71b36c4c328b",
   "metadata": {
    "tags": []
   },
   "outputs": [
    {
     "data": {
      "text/html": [
       "<div>\n",
       "<style scoped>\n",
       "    .dataframe tbody tr th:only-of-type {\n",
       "        vertical-align: middle;\n",
       "    }\n",
       "\n",
       "    .dataframe tbody tr th {\n",
       "        vertical-align: top;\n",
       "    }\n",
       "\n",
       "    .dataframe thead th {\n",
       "        text-align: right;\n",
       "    }\n",
       "</style>\n",
       "<table border=\"1\" class=\"dataframe\">\n",
       "  <thead>\n",
       "    <tr style=\"text-align: right;\">\n",
       "      <th></th>\n",
       "      <th>diagnosis_result</th>\n",
       "      <th>radius</th>\n",
       "      <th>texture</th>\n",
       "      <th>perimeter</th>\n",
       "      <th>area</th>\n",
       "      <th>smoothness</th>\n",
       "      <th>compactness</th>\n",
       "      <th>symmetry</th>\n",
       "      <th>fractal_dimension</th>\n",
       "    </tr>\n",
       "  </thead>\n",
       "  <tbody>\n",
       "    <tr>\n",
       "      <th>0</th>\n",
       "      <td>M</td>\n",
       "      <td>23</td>\n",
       "      <td>12</td>\n",
       "      <td>151</td>\n",
       "      <td>954</td>\n",
       "      <td>0.143</td>\n",
       "      <td>0.278</td>\n",
       "      <td>0.242</td>\n",
       "      <td>0.079</td>\n",
       "    </tr>\n",
       "    <tr>\n",
       "      <th>1</th>\n",
       "      <td>B</td>\n",
       "      <td>9</td>\n",
       "      <td>13</td>\n",
       "      <td>133</td>\n",
       "      <td>1326</td>\n",
       "      <td>0.143</td>\n",
       "      <td>0.079</td>\n",
       "      <td>0.181</td>\n",
       "      <td>0.057</td>\n",
       "    </tr>\n",
       "    <tr>\n",
       "      <th>2</th>\n",
       "      <td>M</td>\n",
       "      <td>21</td>\n",
       "      <td>27</td>\n",
       "      <td>130</td>\n",
       "      <td>1203</td>\n",
       "      <td>0.125</td>\n",
       "      <td>0.160</td>\n",
       "      <td>0.207</td>\n",
       "      <td>0.060</td>\n",
       "    </tr>\n",
       "    <tr>\n",
       "      <th>3</th>\n",
       "      <td>M</td>\n",
       "      <td>14</td>\n",
       "      <td>16</td>\n",
       "      <td>78</td>\n",
       "      <td>386</td>\n",
       "      <td>0.070</td>\n",
       "      <td>0.284</td>\n",
       "      <td>0.260</td>\n",
       "      <td>0.097</td>\n",
       "    </tr>\n",
       "    <tr>\n",
       "      <th>4</th>\n",
       "      <td>M</td>\n",
       "      <td>9</td>\n",
       "      <td>19</td>\n",
       "      <td>135</td>\n",
       "      <td>1297</td>\n",
       "      <td>0.141</td>\n",
       "      <td>0.133</td>\n",
       "      <td>0.181</td>\n",
       "      <td>0.059</td>\n",
       "    </tr>\n",
       "  </tbody>\n",
       "</table>\n",
       "</div>"
      ],
      "text/plain": [
       "  diagnosis_result  radius  texture  perimeter  area  smoothness  compactness  \\\n",
       "0                M      23       12        151   954       0.143        0.278   \n",
       "1                B       9       13        133  1326       0.143        0.079   \n",
       "2                M      21       27        130  1203       0.125        0.160   \n",
       "3                M      14       16         78   386       0.070        0.284   \n",
       "4                M       9       19        135  1297       0.141        0.133   \n",
       "\n",
       "   symmetry  fractal_dimension  \n",
       "0     0.242              0.079  \n",
       "1     0.181              0.057  \n",
       "2     0.207              0.060  \n",
       "3     0.260              0.097  \n",
       "4     0.181              0.059  "
      ]
     },
     "execution_count": 19,
     "metadata": {},
     "output_type": "execute_result"
    }
   ],
   "source": [
    "data.head()"
   ]
  },
  {
   "cell_type": "markdown",
   "id": "6e5b8052-3269-4a94-8b45-9bc34d2d1227",
   "metadata": {},
   "source": [
    "Successful drop"
   ]
  },
  {
   "cell_type": "code",
   "execution_count": 22,
   "id": "a1aec83c-9154-4f79-a927-ef45e66b3908",
   "metadata": {
    "tags": []
   },
   "outputs": [],
   "source": [
    "data['diagnosis_result'].replace({'M':0,'B':1},inplace=True)"
   ]
  },
  {
   "cell_type": "code",
   "execution_count": 24,
   "id": "f7943097-6a0d-40a2-9597-78d61123ad65",
   "metadata": {
    "tags": []
   },
   "outputs": [
    {
     "data": {
      "text/html": [
       "<div>\n",
       "<style scoped>\n",
       "    .dataframe tbody tr th:only-of-type {\n",
       "        vertical-align: middle;\n",
       "    }\n",
       "\n",
       "    .dataframe tbody tr th {\n",
       "        vertical-align: top;\n",
       "    }\n",
       "\n",
       "    .dataframe thead th {\n",
       "        text-align: right;\n",
       "    }\n",
       "</style>\n",
       "<table border=\"1\" class=\"dataframe\">\n",
       "  <thead>\n",
       "    <tr style=\"text-align: right;\">\n",
       "      <th></th>\n",
       "      <th>diagnosis_result</th>\n",
       "      <th>radius</th>\n",
       "      <th>texture</th>\n",
       "      <th>perimeter</th>\n",
       "      <th>area</th>\n",
       "      <th>smoothness</th>\n",
       "      <th>compactness</th>\n",
       "      <th>symmetry</th>\n",
       "      <th>fractal_dimension</th>\n",
       "    </tr>\n",
       "  </thead>\n",
       "  <tbody>\n",
       "    <tr>\n",
       "      <th>0</th>\n",
       "      <td>0</td>\n",
       "      <td>23</td>\n",
       "      <td>12</td>\n",
       "      <td>151</td>\n",
       "      <td>954</td>\n",
       "      <td>0.143</td>\n",
       "      <td>0.278</td>\n",
       "      <td>0.242</td>\n",
       "      <td>0.079</td>\n",
       "    </tr>\n",
       "    <tr>\n",
       "      <th>1</th>\n",
       "      <td>1</td>\n",
       "      <td>9</td>\n",
       "      <td>13</td>\n",
       "      <td>133</td>\n",
       "      <td>1326</td>\n",
       "      <td>0.143</td>\n",
       "      <td>0.079</td>\n",
       "      <td>0.181</td>\n",
       "      <td>0.057</td>\n",
       "    </tr>\n",
       "    <tr>\n",
       "      <th>2</th>\n",
       "      <td>0</td>\n",
       "      <td>21</td>\n",
       "      <td>27</td>\n",
       "      <td>130</td>\n",
       "      <td>1203</td>\n",
       "      <td>0.125</td>\n",
       "      <td>0.160</td>\n",
       "      <td>0.207</td>\n",
       "      <td>0.060</td>\n",
       "    </tr>\n",
       "    <tr>\n",
       "      <th>3</th>\n",
       "      <td>0</td>\n",
       "      <td>14</td>\n",
       "      <td>16</td>\n",
       "      <td>78</td>\n",
       "      <td>386</td>\n",
       "      <td>0.070</td>\n",
       "      <td>0.284</td>\n",
       "      <td>0.260</td>\n",
       "      <td>0.097</td>\n",
       "    </tr>\n",
       "    <tr>\n",
       "      <th>4</th>\n",
       "      <td>0</td>\n",
       "      <td>9</td>\n",
       "      <td>19</td>\n",
       "      <td>135</td>\n",
       "      <td>1297</td>\n",
       "      <td>0.141</td>\n",
       "      <td>0.133</td>\n",
       "      <td>0.181</td>\n",
       "      <td>0.059</td>\n",
       "    </tr>\n",
       "  </tbody>\n",
       "</table>\n",
       "</div>"
      ],
      "text/plain": [
       "   diagnosis_result  radius  texture  perimeter  area  smoothness  \\\n",
       "0                 0      23       12        151   954       0.143   \n",
       "1                 1       9       13        133  1326       0.143   \n",
       "2                 0      21       27        130  1203       0.125   \n",
       "3                 0      14       16         78   386       0.070   \n",
       "4                 0       9       19        135  1297       0.141   \n",
       "\n",
       "   compactness  symmetry  fractal_dimension  \n",
       "0        0.278     0.242              0.079  \n",
       "1        0.079     0.181              0.057  \n",
       "2        0.160     0.207              0.060  \n",
       "3        0.284     0.260              0.097  \n",
       "4        0.133     0.181              0.059  "
      ]
     },
     "execution_count": 24,
     "metadata": {},
     "output_type": "execute_result"
    }
   ],
   "source": [
    "data.head()"
   ]
  },
  {
   "cell_type": "code",
   "execution_count": 26,
   "id": "0ff1d949-c1e0-43d4-9238-18eb9c53c027",
   "metadata": {
    "tags": []
   },
   "outputs": [
    {
     "data": {
      "text/html": [
       "<style type=\"text/css\">\n",
       "#T_67cad_row0_col0, #T_67cad_row1_col1, #T_67cad_row2_col2, #T_67cad_row3_col3, #T_67cad_row4_col4, #T_67cad_row5_col5, #T_67cad_row6_col6, #T_67cad_row7_col7, #T_67cad_row8_col8 {\n",
       "  background-color: #023858;\n",
       "  color: #f1f1f1;\n",
       "}\n",
       "#T_67cad_row0_col1 {\n",
       "  background-color: #b1c2de;\n",
       "  color: #000000;\n",
       "}\n",
       "#T_67cad_row0_col2 {\n",
       "  background-color: #faf2f8;\n",
       "  color: #000000;\n",
       "}\n",
       "#T_67cad_row0_col3, #T_67cad_row0_col4, #T_67cad_row0_col5, #T_67cad_row0_col6, #T_67cad_row0_col7, #T_67cad_row3_col0, #T_67cad_row3_col2, #T_67cad_row4_col1, #T_67cad_row4_col2, #T_67cad_row4_col8 {\n",
       "  background-color: #fff7fb;\n",
       "  color: #000000;\n",
       "}\n",
       "#T_67cad_row0_col8, #T_67cad_row1_col6 {\n",
       "  background-color: #d9d8ea;\n",
       "  color: #000000;\n",
       "}\n",
       "#T_67cad_row1_col0 {\n",
       "  background-color: #79abd0;\n",
       "  color: #f1f1f1;\n",
       "}\n",
       "#T_67cad_row1_col2, #T_67cad_row1_col8, #T_67cad_row5_col2 {\n",
       "  background-color: #dddbec;\n",
       "  color: #000000;\n",
       "}\n",
       "#T_67cad_row1_col3, #T_67cad_row8_col2 {\n",
       "  background-color: #d5d5e8;\n",
       "  color: #000000;\n",
       "}\n",
       "#T_67cad_row1_col4 {\n",
       "  background-color: #dbdaeb;\n",
       "  color: #000000;\n",
       "}\n",
       "#T_67cad_row1_col5, #T_67cad_row3_col8, #T_67cad_row6_col0 {\n",
       "  background-color: #f6eff7;\n",
       "  color: #000000;\n",
       "}\n",
       "#T_67cad_row1_col7 {\n",
       "  background-color: #e5e1ef;\n",
       "  color: #000000;\n",
       "}\n",
       "#T_67cad_row2_col0 {\n",
       "  background-color: #b4c4df;\n",
       "  color: #000000;\n",
       "}\n",
       "#T_67cad_row2_col1, #T_67cad_row4_col7 {\n",
       "  background-color: #c6cce3;\n",
       "  color: #000000;\n",
       "}\n",
       "#T_67cad_row2_col3 {\n",
       "  background-color: #bdc8e1;\n",
       "  color: #000000;\n",
       "}\n",
       "#T_67cad_row2_col4 {\n",
       "  background-color: #c4cbe3;\n",
       "  color: #000000;\n",
       "}\n",
       "#T_67cad_row2_col5, #T_67cad_row2_col7 {\n",
       "  background-color: #d0d1e6;\n",
       "  color: #000000;\n",
       "}\n",
       "#T_67cad_row2_col6 {\n",
       "  background-color: #abbfdc;\n",
       "  color: #000000;\n",
       "}\n",
       "#T_67cad_row2_col8 {\n",
       "  background-color: #b7c5df;\n",
       "  color: #000000;\n",
       "}\n",
       "#T_67cad_row3_col1 {\n",
       "  background-color: #fef6fa;\n",
       "  color: #000000;\n",
       "}\n",
       "#T_67cad_row3_col4, #T_67cad_row4_col3 {\n",
       "  background-color: #023b5d;\n",
       "  color: #f1f1f1;\n",
       "}\n",
       "#T_67cad_row3_col5 {\n",
       "  background-color: #a1bbda;\n",
       "  color: #000000;\n",
       "}\n",
       "#T_67cad_row3_col6 {\n",
       "  background-color: #1c7fb8;\n",
       "  color: #f1f1f1;\n",
       "}\n",
       "#T_67cad_row3_col7 {\n",
       "  background-color: #b0c2de;\n",
       "  color: #000000;\n",
       "}\n",
       "#T_67cad_row4_col0 {\n",
       "  background-color: #fbf3f9;\n",
       "  color: #000000;\n",
       "}\n",
       "#T_67cad_row4_col5 {\n",
       "  background-color: #b3c3de;\n",
       "  color: #000000;\n",
       "}\n",
       "#T_67cad_row4_col6 {\n",
       "  background-color: #3991c1;\n",
       "  color: #f1f1f1;\n",
       "}\n",
       "#T_67cad_row5_col0, #T_67cad_row8_col3 {\n",
       "  background-color: #ced0e6;\n",
       "  color: #000000;\n",
       "}\n",
       "#T_67cad_row5_col1 {\n",
       "  background-color: #f0eaf4;\n",
       "  color: #000000;\n",
       "}\n",
       "#T_67cad_row5_col3 {\n",
       "  background-color: #5ea0ca;\n",
       "  color: #f1f1f1;\n",
       "}\n",
       "#T_67cad_row5_col4 {\n",
       "  background-color: #76aad0;\n",
       "  color: #f1f1f1;\n",
       "}\n",
       "#T_67cad_row5_col6 {\n",
       "  background-color: #2d8abd;\n",
       "  color: #f1f1f1;\n",
       "}\n",
       "#T_67cad_row5_col7 {\n",
       "  background-color: #63a2cb;\n",
       "  color: #f1f1f1;\n",
       "}\n",
       "#T_67cad_row5_col8 {\n",
       "  background-color: #71a8ce;\n",
       "  color: #f1f1f1;\n",
       "}\n",
       "#T_67cad_row6_col1 {\n",
       "  background-color: #f8f1f8;\n",
       "  color: #000000;\n",
       "}\n",
       "#T_67cad_row6_col2 {\n",
       "  background-color: #ebe6f2;\n",
       "  color: #000000;\n",
       "}\n",
       "#T_67cad_row6_col3 {\n",
       "  background-color: #167bb6;\n",
       "  color: #f1f1f1;\n",
       "}\n",
       "#T_67cad_row6_col4 {\n",
       "  background-color: #348ebf;\n",
       "  color: #f1f1f1;\n",
       "}\n",
       "#T_67cad_row6_col5 {\n",
       "  background-color: #5a9ec9;\n",
       "  color: #f1f1f1;\n",
       "}\n",
       "#T_67cad_row6_col7 {\n",
       "  background-color: #0872b1;\n",
       "  color: #f1f1f1;\n",
       "}\n",
       "#T_67cad_row6_col8 {\n",
       "  background-color: #0f76b3;\n",
       "  color: #f1f1f1;\n",
       "}\n",
       "#T_67cad_row7_col0 {\n",
       "  background-color: #d4d4e8;\n",
       "  color: #000000;\n",
       "}\n",
       "#T_67cad_row7_col1 {\n",
       "  background-color: #e2dfee;\n",
       "  color: #000000;\n",
       "}\n",
       "#T_67cad_row7_col2 {\n",
       "  background-color: #e1dfed;\n",
       "  color: #000000;\n",
       "}\n",
       "#T_67cad_row7_col3 {\n",
       "  background-color: #75a9cf;\n",
       "  color: #f1f1f1;\n",
       "}\n",
       "#T_67cad_row7_col4 {\n",
       "  background-color: #8fb4d6;\n",
       "  color: #000000;\n",
       "}\n",
       "#T_67cad_row7_col5 {\n",
       "  background-color: #6ba5cd;\n",
       "  color: #f1f1f1;\n",
       "}\n",
       "#T_67cad_row7_col6 {\n",
       "  background-color: #0569a4;\n",
       "  color: #f1f1f1;\n",
       "}\n",
       "#T_67cad_row7_col8 {\n",
       "  background-color: #2786bb;\n",
       "  color: #f1f1f1;\n",
       "}\n",
       "#T_67cad_row8_col0 {\n",
       "  background-color: #a7bddb;\n",
       "  color: #000000;\n",
       "}\n",
       "#T_67cad_row8_col1 {\n",
       "  background-color: #e0deed;\n",
       "  color: #000000;\n",
       "}\n",
       "#T_67cad_row8_col4 {\n",
       "  background-color: #dfddec;\n",
       "  color: #000000;\n",
       "}\n",
       "#T_67cad_row8_col5 {\n",
       "  background-color: #7eadd1;\n",
       "  color: #f1f1f1;\n",
       "}\n",
       "#T_67cad_row8_col6 {\n",
       "  background-color: #056dab;\n",
       "  color: #f1f1f1;\n",
       "}\n",
       "#T_67cad_row8_col7 {\n",
       "  background-color: #2c89bd;\n",
       "  color: #f1f1f1;\n",
       "}\n",
       "</style>\n",
       "<table id=\"T_67cad\">\n",
       "  <thead>\n",
       "    <tr>\n",
       "      <th class=\"blank level0\" >&nbsp;</th>\n",
       "      <th id=\"T_67cad_level0_col0\" class=\"col_heading level0 col0\" >diagnosis_result</th>\n",
       "      <th id=\"T_67cad_level0_col1\" class=\"col_heading level0 col1\" >radius</th>\n",
       "      <th id=\"T_67cad_level0_col2\" class=\"col_heading level0 col2\" >texture</th>\n",
       "      <th id=\"T_67cad_level0_col3\" class=\"col_heading level0 col3\" >perimeter</th>\n",
       "      <th id=\"T_67cad_level0_col4\" class=\"col_heading level0 col4\" >area</th>\n",
       "      <th id=\"T_67cad_level0_col5\" class=\"col_heading level0 col5\" >smoothness</th>\n",
       "      <th id=\"T_67cad_level0_col6\" class=\"col_heading level0 col6\" >compactness</th>\n",
       "      <th id=\"T_67cad_level0_col7\" class=\"col_heading level0 col7\" >symmetry</th>\n",
       "      <th id=\"T_67cad_level0_col8\" class=\"col_heading level0 col8\" >fractal_dimension</th>\n",
       "    </tr>\n",
       "  </thead>\n",
       "  <tbody>\n",
       "    <tr>\n",
       "      <th id=\"T_67cad_level0_row0\" class=\"row_heading level0 row0\" >diagnosis_result</th>\n",
       "      <td id=\"T_67cad_row0_col0\" class=\"data row0 col0\" >1.000000</td>\n",
       "      <td id=\"T_67cad_row0_col1\" class=\"data row0 col1\" >0.176967</td>\n",
       "      <td id=\"T_67cad_row0_col2\" class=\"data row0 col2\" >-0.070735</td>\n",
       "      <td id=\"T_67cad_row0_col3\" class=\"data row0 col3\" >-0.607498</td>\n",
       "      <td id=\"T_67cad_row0_col4\" class=\"data row0 col4\" >-0.562444</td>\n",
       "      <td id=\"T_67cad_row0_col5\" class=\"data row0 col5\" >-0.197616</td>\n",
       "      <td id=\"T_67cad_row0_col6\" class=\"data row0 col6\" >-0.512234</td>\n",
       "      <td id=\"T_67cad_row0_col7\" class=\"data row0 col7\" >-0.233028</td>\n",
       "      <td id=\"T_67cad_row0_col8\" class=\"data row0 col8\" >-0.008180</td>\n",
       "    </tr>\n",
       "    <tr>\n",
       "      <th id=\"T_67cad_level0_row1\" class=\"row_heading level0 row1\" >radius</th>\n",
       "      <td id=\"T_67cad_row1_col0\" class=\"data row1 col0\" >0.176967</td>\n",
       "      <td id=\"T_67cad_row1_col1\" class=\"data row1 col1\" >1.000000</td>\n",
       "      <td id=\"T_67cad_row1_col2\" class=\"data row1 col2\" >0.100245</td>\n",
       "      <td id=\"T_67cad_row1_col3\" class=\"data row1 col3\" >-0.238216</td>\n",
       "      <td id=\"T_67cad_row1_col4\" class=\"data row1 col4\" >-0.250934</td>\n",
       "      <td id=\"T_67cad_row1_col5\" class=\"data row1 col5\" >-0.127121</td>\n",
       "      <td id=\"T_67cad_row1_col6\" class=\"data row1 col6\" >-0.191490</td>\n",
       "      <td id=\"T_67cad_row1_col7\" class=\"data row1 col7\" >-0.039707</td>\n",
       "      <td id=\"T_67cad_row1_col8\" class=\"data row1 col8\" >-0.029120</td>\n",
       "    </tr>\n",
       "    <tr>\n",
       "      <th id=\"T_67cad_level0_row2\" class=\"row_heading level0 row2\" >texture</th>\n",
       "      <td id=\"T_67cad_row2_col0\" class=\"data row2 col0\" >-0.070735</td>\n",
       "      <td id=\"T_67cad_row2_col1\" class=\"data row2 col1\" >0.100245</td>\n",
       "      <td id=\"T_67cad_row2_col2\" class=\"data row2 col2\" >1.000000</td>\n",
       "      <td id=\"T_67cad_row2_col3\" class=\"data row2 col3\" >-0.113453</td>\n",
       "      <td id=\"T_67cad_row2_col4\" class=\"data row2 col4\" >-0.113725</td>\n",
       "      <td id=\"T_67cad_row2_col5\" class=\"data row2 col5\" >0.102321</td>\n",
       "      <td id=\"T_67cad_row2_col6\" class=\"data row2 col6\" >0.032446</td>\n",
       "      <td id=\"T_67cad_row2_col7\" class=\"data row2 col7\" >0.077912</td>\n",
       "      <td id=\"T_67cad_row2_col8\" class=\"data row2 col8\" >0.139157</td>\n",
       "    </tr>\n",
       "    <tr>\n",
       "      <th id=\"T_67cad_level0_row3\" class=\"row_heading level0 row3\" >perimeter</th>\n",
       "      <td id=\"T_67cad_row3_col0\" class=\"data row3 col0\" >-0.607498</td>\n",
       "      <td id=\"T_67cad_row3_col1\" class=\"data row3 col1\" >-0.238216</td>\n",
       "      <td id=\"T_67cad_row3_col2\" class=\"data row3 col2\" >-0.113453</td>\n",
       "      <td id=\"T_67cad_row3_col3\" class=\"data row3 col3\" >1.000000</td>\n",
       "      <td id=\"T_67cad_row3_col4\" class=\"data row3 col4\" >0.976648</td>\n",
       "      <td id=\"T_67cad_row3_col5\" class=\"data row3 col5\" >0.269442</td>\n",
       "      <td id=\"T_67cad_row3_col6\" class=\"data row3 col6\" >0.527542</td>\n",
       "      <td id=\"T_67cad_row3_col7\" class=\"data row3 col7\" >0.195539</td>\n",
       "      <td id=\"T_67cad_row3_col8\" class=\"data row3 col8\" >-0.195434</td>\n",
       "    </tr>\n",
       "    <tr>\n",
       "      <th id=\"T_67cad_level0_row4\" class=\"row_heading level0 row4\" >area</th>\n",
       "      <td id=\"T_67cad_row4_col0\" class=\"data row4 col0\" >-0.562444</td>\n",
       "      <td id=\"T_67cad_row4_col1\" class=\"data row4 col1\" >-0.250934</td>\n",
       "      <td id=\"T_67cad_row4_col2\" class=\"data row4 col2\" >-0.113725</td>\n",
       "      <td id=\"T_67cad_row4_col3\" class=\"data row4 col3\" >0.976648</td>\n",
       "      <td id=\"T_67cad_row4_col4\" class=\"data row4 col4\" >1.000000</td>\n",
       "      <td id=\"T_67cad_row4_col5\" class=\"data row4 col5\" >0.208438</td>\n",
       "      <td id=\"T_67cad_row4_col6\" class=\"data row4 col6\" >0.424950</td>\n",
       "      <td id=\"T_67cad_row4_col7\" class=\"data row4 col7\" >0.110435</td>\n",
       "      <td id=\"T_67cad_row4_col8\" class=\"data row4 col8\" >-0.274344</td>\n",
       "    </tr>\n",
       "    <tr>\n",
       "      <th id=\"T_67cad_level0_row5\" class=\"row_heading level0 row5\" >smoothness</th>\n",
       "      <td id=\"T_67cad_row5_col0\" class=\"data row5 col0\" >-0.197616</td>\n",
       "      <td id=\"T_67cad_row5_col1\" class=\"data row5 col1\" >-0.127121</td>\n",
       "      <td id=\"T_67cad_row5_col2\" class=\"data row5 col2\" >0.102321</td>\n",
       "      <td id=\"T_67cad_row5_col3\" class=\"data row5 col3\" >0.269442</td>\n",
       "      <td id=\"T_67cad_row5_col4\" class=\"data row5 col4\" >0.208438</td>\n",
       "      <td id=\"T_67cad_row5_col5\" class=\"data row5 col5\" >1.000000</td>\n",
       "      <td id=\"T_67cad_row5_col6\" class=\"data row5 col6\" >0.465723</td>\n",
       "      <td id=\"T_67cad_row5_col7\" class=\"data row5 col7\" >0.424203</td>\n",
       "      <td id=\"T_67cad_row5_col8\" class=\"data row5 col8\" >0.369580</td>\n",
       "    </tr>\n",
       "    <tr>\n",
       "      <th id=\"T_67cad_level0_row6\" class=\"row_heading level0 row6\" >compactness</th>\n",
       "      <td id=\"T_67cad_row6_col0\" class=\"data row6 col0\" >-0.512234</td>\n",
       "      <td id=\"T_67cad_row6_col1\" class=\"data row6 col1\" >-0.191490</td>\n",
       "      <td id=\"T_67cad_row6_col2\" class=\"data row6 col2\" >0.032446</td>\n",
       "      <td id=\"T_67cad_row6_col3\" class=\"data row6 col3\" >0.527542</td>\n",
       "      <td id=\"T_67cad_row6_col4\" class=\"data row6 col4\" >0.424950</td>\n",
       "      <td id=\"T_67cad_row6_col5\" class=\"data row6 col5\" >0.465723</td>\n",
       "      <td id=\"T_67cad_row6_col6\" class=\"data row6 col6\" >1.000000</td>\n",
       "      <td id=\"T_67cad_row6_col7\" class=\"data row6 col7\" >0.681123</td>\n",
       "      <td id=\"T_67cad_row6_col8\" class=\"data row6 col8\" >0.647953</td>\n",
       "    </tr>\n",
       "    <tr>\n",
       "      <th id=\"T_67cad_level0_row7\" class=\"row_heading level0 row7\" >symmetry</th>\n",
       "      <td id=\"T_67cad_row7_col0\" class=\"data row7 col0\" >-0.233028</td>\n",
       "      <td id=\"T_67cad_row7_col1\" class=\"data row7 col1\" >-0.039707</td>\n",
       "      <td id=\"T_67cad_row7_col2\" class=\"data row7 col2\" >0.077912</td>\n",
       "      <td id=\"T_67cad_row7_col3\" class=\"data row7 col3\" >0.195539</td>\n",
       "      <td id=\"T_67cad_row7_col4\" class=\"data row7 col4\" >0.110435</td>\n",
       "      <td id=\"T_67cad_row7_col5\" class=\"data row7 col5\" >0.424203</td>\n",
       "      <td id=\"T_67cad_row7_col6\" class=\"data row7 col6\" >0.681123</td>\n",
       "      <td id=\"T_67cad_row7_col7\" class=\"data row7 col7\" >1.000000</td>\n",
       "      <td id=\"T_67cad_row7_col8\" class=\"data row7 col8\" >0.568608</td>\n",
       "    </tr>\n",
       "    <tr>\n",
       "      <th id=\"T_67cad_level0_row8\" class=\"row_heading level0 row8\" >fractal_dimension</th>\n",
       "      <td id=\"T_67cad_row8_col0\" class=\"data row8 col0\" >-0.008180</td>\n",
       "      <td id=\"T_67cad_row8_col1\" class=\"data row8 col1\" >-0.029120</td>\n",
       "      <td id=\"T_67cad_row8_col2\" class=\"data row8 col2\" >0.139157</td>\n",
       "      <td id=\"T_67cad_row8_col3\" class=\"data row8 col3\" >-0.195434</td>\n",
       "      <td id=\"T_67cad_row8_col4\" class=\"data row8 col4\" >-0.274344</td>\n",
       "      <td id=\"T_67cad_row8_col5\" class=\"data row8 col5\" >0.369580</td>\n",
       "      <td id=\"T_67cad_row8_col6\" class=\"data row8 col6\" >0.647953</td>\n",
       "      <td id=\"T_67cad_row8_col7\" class=\"data row8 col7\" >0.568608</td>\n",
       "      <td id=\"T_67cad_row8_col8\" class=\"data row8 col8\" >1.000000</td>\n",
       "    </tr>\n",
       "  </tbody>\n",
       "</table>\n"
      ],
      "text/plain": [
       "<pandas.io.formats.style.Styler at 0x18f0ad2d8a0>"
      ]
     },
     "execution_count": 26,
     "metadata": {},
     "output_type": "execute_result"
    }
   ],
   "source": [
    "## data corelation matrix\n",
    "\n",
    "corr_metrics = data.corr()\n",
    "corr_metrics.style.background_gradient()"
   ]
  },
  {
   "cell_type": "markdown",
   "id": "e3ef2c32-12e9-4339-b7f3-a350f0c1b7ce",
   "metadata": {
    "tags": []
   },
   "source": [
    "### fractial dimension and texture shows  a low coraltion and perimeter and area has strong corelation so I will eliminate that features"
   ]
  },
  {
   "cell_type": "code",
   "execution_count": 31,
   "id": "62c76357-6394-43cd-a665-f29f2d6f92e4",
   "metadata": {
    "tags": []
   },
   "outputs": [],
   "source": [
    "data = data.drop(['fractal_dimension', 'texture', 'perimeter'], axis=1)"
   ]
  },
  {
   "cell_type": "code",
   "execution_count": 33,
   "id": "ee06304e-60ca-402f-b928-b835466295c7",
   "metadata": {
    "tags": []
   },
   "outputs": [
    {
     "data": {
      "text/html": [
       "<div>\n",
       "<style scoped>\n",
       "    .dataframe tbody tr th:only-of-type {\n",
       "        vertical-align: middle;\n",
       "    }\n",
       "\n",
       "    .dataframe tbody tr th {\n",
       "        vertical-align: top;\n",
       "    }\n",
       "\n",
       "    .dataframe thead th {\n",
       "        text-align: right;\n",
       "    }\n",
       "</style>\n",
       "<table border=\"1\" class=\"dataframe\">\n",
       "  <thead>\n",
       "    <tr style=\"text-align: right;\">\n",
       "      <th></th>\n",
       "      <th>diagnosis_result</th>\n",
       "      <th>radius</th>\n",
       "      <th>area</th>\n",
       "      <th>smoothness</th>\n",
       "      <th>compactness</th>\n",
       "      <th>symmetry</th>\n",
       "    </tr>\n",
       "  </thead>\n",
       "  <tbody>\n",
       "    <tr>\n",
       "      <th>0</th>\n",
       "      <td>0</td>\n",
       "      <td>23</td>\n",
       "      <td>954</td>\n",
       "      <td>0.143</td>\n",
       "      <td>0.278</td>\n",
       "      <td>0.242</td>\n",
       "    </tr>\n",
       "    <tr>\n",
       "      <th>1</th>\n",
       "      <td>1</td>\n",
       "      <td>9</td>\n",
       "      <td>1326</td>\n",
       "      <td>0.143</td>\n",
       "      <td>0.079</td>\n",
       "      <td>0.181</td>\n",
       "    </tr>\n",
       "    <tr>\n",
       "      <th>2</th>\n",
       "      <td>0</td>\n",
       "      <td>21</td>\n",
       "      <td>1203</td>\n",
       "      <td>0.125</td>\n",
       "      <td>0.160</td>\n",
       "      <td>0.207</td>\n",
       "    </tr>\n",
       "    <tr>\n",
       "      <th>3</th>\n",
       "      <td>0</td>\n",
       "      <td>14</td>\n",
       "      <td>386</td>\n",
       "      <td>0.070</td>\n",
       "      <td>0.284</td>\n",
       "      <td>0.260</td>\n",
       "    </tr>\n",
       "    <tr>\n",
       "      <th>4</th>\n",
       "      <td>0</td>\n",
       "      <td>9</td>\n",
       "      <td>1297</td>\n",
       "      <td>0.141</td>\n",
       "      <td>0.133</td>\n",
       "      <td>0.181</td>\n",
       "    </tr>\n",
       "  </tbody>\n",
       "</table>\n",
       "</div>"
      ],
      "text/plain": [
       "   diagnosis_result  radius  area  smoothness  compactness  symmetry\n",
       "0                 0      23   954       0.143        0.278     0.242\n",
       "1                 1       9  1326       0.143        0.079     0.181\n",
       "2                 0      21  1203       0.125        0.160     0.207\n",
       "3                 0      14   386       0.070        0.284     0.260\n",
       "4                 0       9  1297       0.141        0.133     0.181"
      ]
     },
     "execution_count": 33,
     "metadata": {},
     "output_type": "execute_result"
    }
   ],
   "source": [
    "data.head()"
   ]
  },
  {
   "cell_type": "code",
   "execution_count": 35,
   "id": "bc992645-741c-47b9-bec5-3f86d1443dbf",
   "metadata": {
    "tags": []
   },
   "outputs": [],
   "source": [
    "from sklearn.model_selection import train_test_split"
   ]
  },
  {
   "cell_type": "code",
   "execution_count": 39,
   "id": "5f7c8068-d08a-4a06-8d76-5ac2a065874e",
   "metadata": {
    "tags": []
   },
   "outputs": [
    {
     "data": {
      "text/plain": [
       "array([[2.300e+01, 9.540e+02, 1.430e-01, 2.780e-01, 2.420e-01],\n",
       "       [9.000e+00, 1.326e+03, 1.430e-01, 7.900e-02, 1.810e-01],\n",
       "       [2.100e+01, 1.203e+03, 1.250e-01, 1.600e-01, 2.070e-01],\n",
       "       [1.400e+01, 3.860e+02, 7.000e-02, 2.840e-01, 2.600e-01],\n",
       "       [9.000e+00, 1.297e+03, 1.410e-01, 1.330e-01, 1.810e-01],\n",
       "       [2.500e+01, 4.770e+02, 1.280e-01, 1.700e-01, 2.090e-01],\n",
       "       [1.600e+01, 1.040e+03, 9.500e-02, 1.090e-01, 1.790e-01],\n",
       "       [1.500e+01, 5.780e+02, 1.190e-01, 1.650e-01, 2.200e-01],\n",
       "       [1.900e+01, 5.200e+02, 1.270e-01, 1.930e-01, 2.350e-01],\n",
       "       [2.500e+01, 4.760e+02, 1.190e-01, 2.400e-01, 2.030e-01],\n",
       "       [2.400e+01, 7.980e+02, 8.200e-02, 6.700e-02, 1.530e-01],\n",
       "       [1.700e+01, 7.810e+02, 9.700e-02, 1.290e-01, 1.840e-01],\n",
       "       [1.400e+01, 1.123e+03, 9.700e-02, 2.460e-01, 2.400e-01],\n",
       "       [1.200e+01, 7.830e+02, 8.400e-02, 1.000e-01, 1.850e-01],\n",
       "       [1.200e+01, 5.780e+02, 1.130e-01, 2.290e-01, 2.070e-01],\n",
       "       [2.200e+01, 6.590e+02, 1.140e-01, 1.600e-01, 2.300e-01],\n",
       "       [1.000e+01, 6.850e+02, 9.900e-02, 7.200e-02, 1.590e-01],\n",
       "       [1.500e+01, 7.990e+02, 1.170e-01, 2.020e-01, 2.160e-01],\n",
       "       [2.000e+01, 1.260e+03, 9.800e-02, 1.030e-01, 1.580e-01],\n",
       "       [1.700e+01, 5.660e+02, 9.800e-02, 8.100e-02, 1.890e-01],\n",
       "       [1.600e+01, 5.200e+02, 1.080e-01, 1.270e-01, 1.970e-01],\n",
       "       [1.700e+01, 2.740e+02, 1.020e-01, 6.500e-02, 1.820e-01],\n",
       "       [2.000e+01, 7.040e+02, 1.070e-01, 2.140e-01, 2.520e-01],\n",
       "       [1.900e+01, 1.404e+03, 9.400e-02, 1.020e-01, 1.770e-01],\n",
       "       [9.000e+00, 9.050e+02, 1.120e-01, 1.460e-01, 2.000e-01],\n",
       "       [1.900e+01, 9.130e+02, 1.190e-01, 2.280e-01, 3.040e-01],\n",
       "       [1.000e+01, 6.450e+02, 1.050e-01, 1.870e-01, 2.250e-01],\n",
       "       [1.600e+01, 1.094e+03, 9.400e-02, 1.070e-01, 1.700e-01],\n",
       "       [1.500e+01, 7.320e+02, 1.080e-01, 1.700e-01, 1.930e-01],\n",
       "       [1.100e+01, 9.550e+02, 9.800e-02, 1.160e-01, 1.740e-01],\n",
       "       [1.100e+01, 1.088e+03, 1.060e-01, 1.890e-01, 2.180e-01],\n",
       "       [2.300e+01, 4.410e+02, 1.110e-01, 1.520e-01, 2.300e-01],\n",
       "       [2.000e+01, 8.990e+02, 1.200e-01, 1.500e-01, 2.250e-01],\n",
       "       [1.100e+01, 1.162e+03, 9.400e-02, 1.720e-01, 1.850e-01],\n",
       "       [1.600e+01, 8.070e+02, 1.040e-01, 1.560e-01, 2.000e-01],\n",
       "       [1.000e+01, 8.700e+02, 9.600e-02, 1.340e-01, 1.900e-01],\n",
       "       [1.800e+01, 6.330e+02, 9.800e-02, 1.100e-01, 1.890e-01],\n",
       "       [2.100e+01, 5.240e+02, 9.000e-02, 3.800e-02, 1.470e-01],\n",
       "       [1.100e+01, 6.990e+02, 9.400e-02, 5.100e-02, 1.570e-01],\n",
       "       [1.000e+01, 5.590e+02, 1.020e-01, 1.260e-01, 1.720e-01],\n",
       "       [2.400e+01, 5.630e+02, 8.200e-02, 6.000e-02, 1.780e-01],\n",
       "       [1.900e+01, 3.710e+02, 1.230e-01, 1.220e-01, 1.900e-01],\n",
       "       [1.100e+01, 1.104e+03, 9.100e-02, 2.190e-01, 2.310e-01],\n",
       "       [1.500e+01, 5.450e+02, 1.040e-01, 1.440e-01, 1.970e-01],\n",
       "       [1.000e+01, 5.320e+02, 9.700e-02, 1.050e-01, 1.750e-01],\n",
       "       [1.800e+01, 1.076e+03, 1.100e-01, 1.690e-01, 1.910e-01],\n",
       "       [2.200e+01, 2.020e+02, 8.600e-02, 5.900e-02, 1.770e-01],\n",
       "       [2.000e+01, 5.350e+02, 1.160e-01, 1.230e-01, 2.130e-01],\n",
       "       [2.000e+01, 4.490e+02, 1.030e-01, 9.100e-02, 1.680e-01],\n",
       "       [2.500e+01, 5.610e+02, 8.800e-02, 7.700e-02, 1.810e-01],\n",
       "       [1.900e+01, 4.280e+02, 8.600e-02, 5.000e-02, 1.500e-01],\n",
       "       [1.900e+01, 5.720e+02, 7.700e-02, 6.100e-02, 1.350e-01],\n",
       "       [2.500e+01, 4.380e+02, 8.300e-02, 4.800e-02, 1.870e-01],\n",
       "       [1.400e+01, 1.033e+03, 1.150e-01, 1.490e-01, 2.090e-01],\n",
       "       [1.800e+01, 7.130e+02, 9.100e-02, 7.100e-02, 1.620e-01],\n",
       "       [1.800e+01, 4.090e+02, 9.500e-02, 5.500e-02, 1.920e-01],\n",
       "       [1.000e+01, 1.152e+03, 1.050e-01, 1.270e-01, 1.920e-01],\n",
       "       [1.700e+01, 6.570e+02, 1.140e-01, 1.370e-01, 2.030e-01],\n",
       "       [2.200e+01, 5.270e+02, 8.100e-02, 3.800e-02, 1.820e-01],\n",
       "       [2.300e+01, 2.250e+02, 9.800e-02, 5.300e-02, 1.680e-01],\n",
       "       [1.500e+01, 3.120e+02, 1.130e-01, 8.100e-02, 2.740e-01],\n",
       "       [2.500e+01, 2.220e+02, 1.240e-01, 9.000e-02, 1.830e-01],\n",
       "       [1.200e+01, 6.460e+02, 1.050e-01, 2.010e-01, 1.950e-01],\n",
       "       [2.400e+01, 2.610e+02, 7.700e-02, 8.800e-02, 2.340e-01],\n",
       "       [1.600e+01, 4.990e+02, 1.120e-01, 1.260e-01, 1.910e-01],\n",
       "       [1.100e+01, 6.680e+02, 1.170e-01, 1.480e-01, 1.950e-01],\n",
       "       [1.200e+01, 2.690e+02, 1.040e-01, 7.800e-02, 1.720e-01],\n",
       "       [1.800e+01, 3.940e+02, 8.100e-02, 4.700e-02, 1.520e-01],\n",
       "       [1.600e+01, 2.510e+02, 1.070e-01, 1.410e-01, 2.110e-01],\n",
       "       [1.700e+01, 5.030e+02, 9.800e-02, 5.200e-02, 1.590e-01],\n",
       "       [2.100e+01, 1.130e+03, 9.000e-02, 1.030e-01, 1.580e-01],\n",
       "       [9.000e+00, 2.440e+02, 9.800e-02, 1.530e-01, 1.900e-01],\n",
       "       [2.100e+01, 9.290e+02, 1.070e-01, 1.830e-01, 1.930e-01],\n",
       "       [2.200e+01, 5.840e+02, 1.010e-01, 1.280e-01, 1.660e-01],\n",
       "       [1.800e+01, 4.710e+02, 9.200e-02, 6.800e-02, 1.720e-01],\n",
       "       [2.100e+01, 8.180e+02, 9.200e-02, 8.400e-02, 1.800e-01],\n",
       "       [1.000e+01, 5.590e+02, 1.290e-01, 1.050e-01, 2.400e-01],\n",
       "       [1.100e+01, 1.006e+03, 1.070e-01, 2.150e-01, 2.150e-01],\n",
       "       [1.600e+01, 1.245e+03, 1.290e-01, 3.450e-01, 2.910e-01],\n",
       "       [2.200e+01, 5.060e+02, 9.900e-02, 9.500e-02, 1.720e-01],\n",
       "       [1.000e+01, 4.020e+02, 1.100e-01, 9.400e-02, 1.840e-01],\n",
       "       [1.700e+01, 5.200e+02, 1.080e-01, 1.540e-01, 1.940e-01],\n",
       "       [1.000e+01, 1.878e+03, 1.060e-01, 2.670e-01, 1.830e-01],\n",
       "       [2.000e+01, 1.132e+03, 1.220e-01, 1.790e-01, 1.630e-01],\n",
       "       [2.500e+01, 4.430e+02, 9.700e-02, 7.200e-02, 2.080e-01],\n",
       "       [1.400e+01, 1.075e+03, 9.900e-02, 1.050e-01, 2.130e-01],\n",
       "       [1.900e+01, 6.480e+02, 9.400e-02, 9.900e-02, 2.080e-01],\n",
       "       [1.900e+01, 1.076e+03, 9.000e-02, 1.210e-01, 1.950e-01],\n",
       "       [1.100e+01, 4.660e+02, 8.800e-02, 9.400e-02, 1.930e-01],\n",
       "       [1.200e+01, 6.520e+02, 1.130e-01, 1.340e-01, 2.120e-01],\n",
       "       [2.300e+01, 6.630e+02, 9.000e-02, 8.600e-02, 1.690e-01],\n",
       "       [1.000e+01, 7.280e+02, 9.200e-02, 1.040e-01, 1.720e-01],\n",
       "       [1.400e+01, 5.520e+02, 7.400e-02, 5.100e-02, 1.390e-01],\n",
       "       [1.000e+01, 5.550e+02, 1.020e-01, 8.200e-02, 1.640e-01],\n",
       "       [2.200e+01, 7.060e+02, 1.040e-01, 1.550e-01, 1.860e-01],\n",
       "       [2.300e+01, 1.264e+03, 9.100e-02, 1.310e-01, 2.100e-01],\n",
       "       [2.200e+01, 4.510e+02, 1.050e-01, 7.100e-02, 1.900e-01],\n",
       "       [1.900e+01, 2.950e+02, 1.020e-01, 5.300e-02, 1.350e-01],\n",
       "       [2.100e+01, 4.130e+02, 9.000e-02, 7.500e-02, 1.620e-01],\n",
       "       [1.600e+01, 6.430e+02, 9.800e-02, 1.140e-01, 1.880e-01]])"
      ]
     },
     "execution_count": 39,
     "metadata": {},
     "output_type": "execute_result"
    }
   ],
   "source": [
    "X=data.iloc[:,1:].values\n",
    "X"
   ]
  },
  {
   "cell_type": "code",
   "execution_count": 41,
   "id": "48fe079d-4524-4adf-9a58-163e3ec18613",
   "metadata": {
    "tags": []
   },
   "outputs": [
    {
     "data": {
      "text/plain": [
       "array([0, 1, 0, 0, 0, 1, 0, 0, 0, 0, 0, 0, 1, 0, 0, 0, 0, 0, 0, 1, 1, 1,\n",
       "       0, 0, 0, 0, 0, 0, 0, 0, 0, 0, 0, 0, 0, 0, 0, 1, 0, 0, 0, 0, 0, 0,\n",
       "       0, 0, 1, 0, 1, 1, 1, 1, 1, 0, 0, 1, 0, 0, 1, 1, 1, 1, 0, 1, 0, 0,\n",
       "       1, 1, 1, 1, 0, 1, 0, 0, 1, 0, 1, 0, 0, 1, 1, 1, 0, 0, 1, 0, 0, 0,\n",
       "       1, 1, 1, 0, 1, 1, 0, 0, 1, 1, 1, 0], dtype=int64)"
      ]
     },
     "execution_count": 41,
     "metadata": {},
     "output_type": "execute_result"
    }
   ],
   "source": [
    "y=data.iloc[:,0].values\n",
    "y"
   ]
  },
  {
   "cell_type": "code",
   "execution_count": 43,
   "id": "46fd4a73-76b7-4c98-91bf-830f244971ae",
   "metadata": {
    "tags": []
   },
   "outputs": [],
   "source": [
    "X_train, X_test, y_train, y_test= train_test_split(X,y,random_state=1,test_size=0.2)"
   ]
  },
  {
   "cell_type": "markdown",
   "id": "03afec85-7237-49fe-9e00-e2c31740f4c4",
   "metadata": {},
   "source": [
    "## Logistic Regression Model"
   ]
  },
  {
   "cell_type": "code",
   "execution_count": 46,
   "id": "1abe4fcd-6003-4754-a550-266164e328a4",
   "metadata": {
    "tags": []
   },
   "outputs": [],
   "source": [
    "from sklearn.linear_model import LogisticRegression"
   ]
  },
  {
   "cell_type": "code",
   "execution_count": 48,
   "id": "fed858d0-535b-4fbd-85a9-5cb964944421",
   "metadata": {
    "tags": []
   },
   "outputs": [],
   "source": [
    "logreg=LogisticRegression()"
   ]
  },
  {
   "cell_type": "code",
   "execution_count": 50,
   "id": "d78463b1-107d-4e1f-b7d6-d1fc572828a0",
   "metadata": {
    "tags": []
   },
   "outputs": [
    {
     "data": {
      "text/html": [
       "<style>#sk-container-id-1 {color: black;background-color: white;}#sk-container-id-1 pre{padding: 0;}#sk-container-id-1 div.sk-toggleable {background-color: white;}#sk-container-id-1 label.sk-toggleable__label {cursor: pointer;display: block;width: 100%;margin-bottom: 0;padding: 0.3em;box-sizing: border-box;text-align: center;}#sk-container-id-1 label.sk-toggleable__label-arrow:before {content: \"▸\";float: left;margin-right: 0.25em;color: #696969;}#sk-container-id-1 label.sk-toggleable__label-arrow:hover:before {color: black;}#sk-container-id-1 div.sk-estimator:hover label.sk-toggleable__label-arrow:before {color: black;}#sk-container-id-1 div.sk-toggleable__content {max-height: 0;max-width: 0;overflow: hidden;text-align: left;background-color: #f0f8ff;}#sk-container-id-1 div.sk-toggleable__content pre {margin: 0.2em;color: black;border-radius: 0.25em;background-color: #f0f8ff;}#sk-container-id-1 input.sk-toggleable__control:checked~div.sk-toggleable__content {max-height: 200px;max-width: 100%;overflow: auto;}#sk-container-id-1 input.sk-toggleable__control:checked~label.sk-toggleable__label-arrow:before {content: \"▾\";}#sk-container-id-1 div.sk-estimator input.sk-toggleable__control:checked~label.sk-toggleable__label {background-color: #d4ebff;}#sk-container-id-1 div.sk-label input.sk-toggleable__control:checked~label.sk-toggleable__label {background-color: #d4ebff;}#sk-container-id-1 input.sk-hidden--visually {border: 0;clip: rect(1px 1px 1px 1px);clip: rect(1px, 1px, 1px, 1px);height: 1px;margin: -1px;overflow: hidden;padding: 0;position: absolute;width: 1px;}#sk-container-id-1 div.sk-estimator {font-family: monospace;background-color: #f0f8ff;border: 1px dotted black;border-radius: 0.25em;box-sizing: border-box;margin-bottom: 0.5em;}#sk-container-id-1 div.sk-estimator:hover {background-color: #d4ebff;}#sk-container-id-1 div.sk-parallel-item::after {content: \"\";width: 100%;border-bottom: 1px solid gray;flex-grow: 1;}#sk-container-id-1 div.sk-label:hover label.sk-toggleable__label {background-color: #d4ebff;}#sk-container-id-1 div.sk-serial::before {content: \"\";position: absolute;border-left: 1px solid gray;box-sizing: border-box;top: 0;bottom: 0;left: 50%;z-index: 0;}#sk-container-id-1 div.sk-serial {display: flex;flex-direction: column;align-items: center;background-color: white;padding-right: 0.2em;padding-left: 0.2em;position: relative;}#sk-container-id-1 div.sk-item {position: relative;z-index: 1;}#sk-container-id-1 div.sk-parallel {display: flex;align-items: stretch;justify-content: center;background-color: white;position: relative;}#sk-container-id-1 div.sk-item::before, #sk-container-id-1 div.sk-parallel-item::before {content: \"\";position: absolute;border-left: 1px solid gray;box-sizing: border-box;top: 0;bottom: 0;left: 50%;z-index: -1;}#sk-container-id-1 div.sk-parallel-item {display: flex;flex-direction: column;z-index: 1;position: relative;background-color: white;}#sk-container-id-1 div.sk-parallel-item:first-child::after {align-self: flex-end;width: 50%;}#sk-container-id-1 div.sk-parallel-item:last-child::after {align-self: flex-start;width: 50%;}#sk-container-id-1 div.sk-parallel-item:only-child::after {width: 0;}#sk-container-id-1 div.sk-dashed-wrapped {border: 1px dashed gray;margin: 0 0.4em 0.5em 0.4em;box-sizing: border-box;padding-bottom: 0.4em;background-color: white;}#sk-container-id-1 div.sk-label label {font-family: monospace;font-weight: bold;display: inline-block;line-height: 1.2em;}#sk-container-id-1 div.sk-label-container {text-align: center;}#sk-container-id-1 div.sk-container {/* jupyter's `normalize.less` sets `[hidden] { display: none; }` but bootstrap.min.css set `[hidden] { display: none !important; }` so we also need the `!important` here to be able to override the default hidden behavior on the sphinx rendered scikit-learn.org. See: https://github.com/scikit-learn/scikit-learn/issues/21755 */display: inline-block !important;position: relative;}#sk-container-id-1 div.sk-text-repr-fallback {display: none;}</style><div id=\"sk-container-id-1\" class=\"sk-top-container\"><div class=\"sk-text-repr-fallback\"><pre>LogisticRegression()</pre><b>In a Jupyter environment, please rerun this cell to show the HTML representation or trust the notebook. <br />On GitHub, the HTML representation is unable to render, please try loading this page with nbviewer.org.</b></div><div class=\"sk-container\" hidden><div class=\"sk-item\"><div class=\"sk-estimator sk-toggleable\"><input class=\"sk-toggleable__control sk-hidden--visually\" id=\"sk-estimator-id-1\" type=\"checkbox\" checked><label for=\"sk-estimator-id-1\" class=\"sk-toggleable__label sk-toggleable__label-arrow\">LogisticRegression</label><div class=\"sk-toggleable__content\"><pre>LogisticRegression()</pre></div></div></div></div></div>"
      ],
      "text/plain": [
       "LogisticRegression()"
      ]
     },
     "execution_count": 50,
     "metadata": {},
     "output_type": "execute_result"
    }
   ],
   "source": [
    "logreg.fit(X_train,y_train)"
   ]
  },
  {
   "cell_type": "code",
   "execution_count": 52,
   "id": "51a162f2-f46e-4057-8854-a701f4cc764b",
   "metadata": {
    "tags": []
   },
   "outputs": [],
   "source": [
    "y_pred_logreg=logreg.predict(X_test)"
   ]
  },
  {
   "cell_type": "code",
   "execution_count": 55,
   "id": "2ca72df6-cea2-4513-a94b-a8677aefcb48",
   "metadata": {
    "tags": []
   },
   "outputs": [
    {
     "data": {
      "text/plain": [
       "array([[11,  1],\n",
       "       [ 3,  5]], dtype=int64)"
      ]
     },
     "execution_count": 55,
     "metadata": {},
     "output_type": "execute_result"
    }
   ],
   "source": [
    "### accuracy calculation\n",
    "from sklearn.metrics import confusion_matrix, accuracy_score\n",
    "cm_logreg=confusion_matrix(y_test,y_pred_logreg)\n",
    "cm_logreg"
   ]
  },
  {
   "cell_type": "code",
   "execution_count": 57,
   "id": "71cc0a1e-faae-4347-9c59-5da160499a7b",
   "metadata": {
    "tags": []
   },
   "outputs": [
    {
     "data": {
      "text/plain": [
       "0.8"
      ]
     },
     "execution_count": 57,
     "metadata": {},
     "output_type": "execute_result"
    }
   ],
   "source": [
    "acc_logreg=accuracy_score(y_test,y_pred_logreg)\n",
    "acc_logreg"
   ]
  },
  {
   "cell_type": "markdown",
   "id": "e1b59452-5b5d-4342-a192-f6ce5b2e5286",
   "metadata": {},
   "source": [
    "## KNN"
   ]
  },
  {
   "cell_type": "code",
   "execution_count": 60,
   "id": "b8ab5355-0d78-4fd0-bfdd-be956d184e9b",
   "metadata": {
    "tags": []
   },
   "outputs": [],
   "source": [
    "from sklearn.neighbors import KNeighborsClassifier"
   ]
  },
  {
   "cell_type": "code",
   "execution_count": 62,
   "id": "e8d53635-7ff0-406a-a899-2717a9d967dd",
   "metadata": {
    "tags": []
   },
   "outputs": [
    {
     "data": {
      "text/html": [
       "<style>#sk-container-id-2 {color: black;background-color: white;}#sk-container-id-2 pre{padding: 0;}#sk-container-id-2 div.sk-toggleable {background-color: white;}#sk-container-id-2 label.sk-toggleable__label {cursor: pointer;display: block;width: 100%;margin-bottom: 0;padding: 0.3em;box-sizing: border-box;text-align: center;}#sk-container-id-2 label.sk-toggleable__label-arrow:before {content: \"▸\";float: left;margin-right: 0.25em;color: #696969;}#sk-container-id-2 label.sk-toggleable__label-arrow:hover:before {color: black;}#sk-container-id-2 div.sk-estimator:hover label.sk-toggleable__label-arrow:before {color: black;}#sk-container-id-2 div.sk-toggleable__content {max-height: 0;max-width: 0;overflow: hidden;text-align: left;background-color: #f0f8ff;}#sk-container-id-2 div.sk-toggleable__content pre {margin: 0.2em;color: black;border-radius: 0.25em;background-color: #f0f8ff;}#sk-container-id-2 input.sk-toggleable__control:checked~div.sk-toggleable__content {max-height: 200px;max-width: 100%;overflow: auto;}#sk-container-id-2 input.sk-toggleable__control:checked~label.sk-toggleable__label-arrow:before {content: \"▾\";}#sk-container-id-2 div.sk-estimator input.sk-toggleable__control:checked~label.sk-toggleable__label {background-color: #d4ebff;}#sk-container-id-2 div.sk-label input.sk-toggleable__control:checked~label.sk-toggleable__label {background-color: #d4ebff;}#sk-container-id-2 input.sk-hidden--visually {border: 0;clip: rect(1px 1px 1px 1px);clip: rect(1px, 1px, 1px, 1px);height: 1px;margin: -1px;overflow: hidden;padding: 0;position: absolute;width: 1px;}#sk-container-id-2 div.sk-estimator {font-family: monospace;background-color: #f0f8ff;border: 1px dotted black;border-radius: 0.25em;box-sizing: border-box;margin-bottom: 0.5em;}#sk-container-id-2 div.sk-estimator:hover {background-color: #d4ebff;}#sk-container-id-2 div.sk-parallel-item::after {content: \"\";width: 100%;border-bottom: 1px solid gray;flex-grow: 1;}#sk-container-id-2 div.sk-label:hover label.sk-toggleable__label {background-color: #d4ebff;}#sk-container-id-2 div.sk-serial::before {content: \"\";position: absolute;border-left: 1px solid gray;box-sizing: border-box;top: 0;bottom: 0;left: 50%;z-index: 0;}#sk-container-id-2 div.sk-serial {display: flex;flex-direction: column;align-items: center;background-color: white;padding-right: 0.2em;padding-left: 0.2em;position: relative;}#sk-container-id-2 div.sk-item {position: relative;z-index: 1;}#sk-container-id-2 div.sk-parallel {display: flex;align-items: stretch;justify-content: center;background-color: white;position: relative;}#sk-container-id-2 div.sk-item::before, #sk-container-id-2 div.sk-parallel-item::before {content: \"\";position: absolute;border-left: 1px solid gray;box-sizing: border-box;top: 0;bottom: 0;left: 50%;z-index: -1;}#sk-container-id-2 div.sk-parallel-item {display: flex;flex-direction: column;z-index: 1;position: relative;background-color: white;}#sk-container-id-2 div.sk-parallel-item:first-child::after {align-self: flex-end;width: 50%;}#sk-container-id-2 div.sk-parallel-item:last-child::after {align-self: flex-start;width: 50%;}#sk-container-id-2 div.sk-parallel-item:only-child::after {width: 0;}#sk-container-id-2 div.sk-dashed-wrapped {border: 1px dashed gray;margin: 0 0.4em 0.5em 0.4em;box-sizing: border-box;padding-bottom: 0.4em;background-color: white;}#sk-container-id-2 div.sk-label label {font-family: monospace;font-weight: bold;display: inline-block;line-height: 1.2em;}#sk-container-id-2 div.sk-label-container {text-align: center;}#sk-container-id-2 div.sk-container {/* jupyter's `normalize.less` sets `[hidden] { display: none; }` but bootstrap.min.css set `[hidden] { display: none !important; }` so we also need the `!important` here to be able to override the default hidden behavior on the sphinx rendered scikit-learn.org. See: https://github.com/scikit-learn/scikit-learn/issues/21755 */display: inline-block !important;position: relative;}#sk-container-id-2 div.sk-text-repr-fallback {display: none;}</style><div id=\"sk-container-id-2\" class=\"sk-top-container\"><div class=\"sk-text-repr-fallback\"><pre>KNeighborsClassifier(n_neighbors=2)</pre><b>In a Jupyter environment, please rerun this cell to show the HTML representation or trust the notebook. <br />On GitHub, the HTML representation is unable to render, please try loading this page with nbviewer.org.</b></div><div class=\"sk-container\" hidden><div class=\"sk-item\"><div class=\"sk-estimator sk-toggleable\"><input class=\"sk-toggleable__control sk-hidden--visually\" id=\"sk-estimator-id-2\" type=\"checkbox\" checked><label for=\"sk-estimator-id-2\" class=\"sk-toggleable__label sk-toggleable__label-arrow\">KNeighborsClassifier</label><div class=\"sk-toggleable__content\"><pre>KNeighborsClassifier(n_neighbors=2)</pre></div></div></div></div></div>"
      ],
      "text/plain": [
       "KNeighborsClassifier(n_neighbors=2)"
      ]
     },
     "execution_count": 62,
     "metadata": {},
     "output_type": "execute_result"
    }
   ],
   "source": [
    "knn=KNeighborsClassifier(n_neighbors=2)\n",
    "knn.fit(X_train,y_train)"
   ]
  },
  {
   "cell_type": "code",
   "execution_count": 64,
   "id": "e092ed61-abe9-47d0-9d55-03875a120a6c",
   "metadata": {
    "tags": []
   },
   "outputs": [],
   "source": [
    "y_pred_knn=knn.predict(X_test)"
   ]
  },
  {
   "cell_type": "code",
   "execution_count": 66,
   "id": "0a1c8cdb-ddc0-44e9-aed6-4a107a752817",
   "metadata": {
    "tags": []
   },
   "outputs": [
    {
     "data": {
      "text/plain": [
       "array([[10,  2],\n",
       "       [ 5,  3]], dtype=int64)"
      ]
     },
     "execution_count": 66,
     "metadata": {},
     "output_type": "execute_result"
    }
   ],
   "source": [
    "cm_knn=confusion_matrix(y_test,y_pred_knn)\n",
    "cm_knn"
   ]
  },
  {
   "cell_type": "code",
   "execution_count": 68,
   "id": "47848d9d-f9b1-4652-a0a2-40b2e045b484",
   "metadata": {
    "tags": []
   },
   "outputs": [
    {
     "data": {
      "text/plain": [
       "0.65"
      ]
     },
     "execution_count": 68,
     "metadata": {},
     "output_type": "execute_result"
    }
   ],
   "source": [
    "acc_knn=accuracy_score(y_test,y_pred_knn)\n",
    "acc_knn"
   ]
  },
  {
   "cell_type": "markdown",
   "id": "b0708ed8-9bbc-43b0-a85e-d12a4159edf9",
   "metadata": {},
   "source": [
    "## Random Forest Classifier"
   ]
  },
  {
   "cell_type": "code",
   "execution_count": 71,
   "id": "6063befd-7b58-4e21-83a9-740a28258997",
   "metadata": {
    "tags": []
   },
   "outputs": [],
   "source": [
    "from sklearn.ensemble import RandomForestClassifier"
   ]
  },
  {
   "cell_type": "code",
   "execution_count": 73,
   "id": "2f6efbb3-9152-4e5b-a794-e1b3fca95739",
   "metadata": {
    "tags": []
   },
   "outputs": [],
   "source": [
    "rfc=RandomForestClassifier()"
   ]
  },
  {
   "cell_type": "code",
   "execution_count": 75,
   "id": "5318578c-ee82-49b1-9387-556a7a008600",
   "metadata": {
    "tags": []
   },
   "outputs": [
    {
     "data": {
      "text/html": [
       "<style>#sk-container-id-3 {color: black;background-color: white;}#sk-container-id-3 pre{padding: 0;}#sk-container-id-3 div.sk-toggleable {background-color: white;}#sk-container-id-3 label.sk-toggleable__label {cursor: pointer;display: block;width: 100%;margin-bottom: 0;padding: 0.3em;box-sizing: border-box;text-align: center;}#sk-container-id-3 label.sk-toggleable__label-arrow:before {content: \"▸\";float: left;margin-right: 0.25em;color: #696969;}#sk-container-id-3 label.sk-toggleable__label-arrow:hover:before {color: black;}#sk-container-id-3 div.sk-estimator:hover label.sk-toggleable__label-arrow:before {color: black;}#sk-container-id-3 div.sk-toggleable__content {max-height: 0;max-width: 0;overflow: hidden;text-align: left;background-color: #f0f8ff;}#sk-container-id-3 div.sk-toggleable__content pre {margin: 0.2em;color: black;border-radius: 0.25em;background-color: #f0f8ff;}#sk-container-id-3 input.sk-toggleable__control:checked~div.sk-toggleable__content {max-height: 200px;max-width: 100%;overflow: auto;}#sk-container-id-3 input.sk-toggleable__control:checked~label.sk-toggleable__label-arrow:before {content: \"▾\";}#sk-container-id-3 div.sk-estimator input.sk-toggleable__control:checked~label.sk-toggleable__label {background-color: #d4ebff;}#sk-container-id-3 div.sk-label input.sk-toggleable__control:checked~label.sk-toggleable__label {background-color: #d4ebff;}#sk-container-id-3 input.sk-hidden--visually {border: 0;clip: rect(1px 1px 1px 1px);clip: rect(1px, 1px, 1px, 1px);height: 1px;margin: -1px;overflow: hidden;padding: 0;position: absolute;width: 1px;}#sk-container-id-3 div.sk-estimator {font-family: monospace;background-color: #f0f8ff;border: 1px dotted black;border-radius: 0.25em;box-sizing: border-box;margin-bottom: 0.5em;}#sk-container-id-3 div.sk-estimator:hover {background-color: #d4ebff;}#sk-container-id-3 div.sk-parallel-item::after {content: \"\";width: 100%;border-bottom: 1px solid gray;flex-grow: 1;}#sk-container-id-3 div.sk-label:hover label.sk-toggleable__label {background-color: #d4ebff;}#sk-container-id-3 div.sk-serial::before {content: \"\";position: absolute;border-left: 1px solid gray;box-sizing: border-box;top: 0;bottom: 0;left: 50%;z-index: 0;}#sk-container-id-3 div.sk-serial {display: flex;flex-direction: column;align-items: center;background-color: white;padding-right: 0.2em;padding-left: 0.2em;position: relative;}#sk-container-id-3 div.sk-item {position: relative;z-index: 1;}#sk-container-id-3 div.sk-parallel {display: flex;align-items: stretch;justify-content: center;background-color: white;position: relative;}#sk-container-id-3 div.sk-item::before, #sk-container-id-3 div.sk-parallel-item::before {content: \"\";position: absolute;border-left: 1px solid gray;box-sizing: border-box;top: 0;bottom: 0;left: 50%;z-index: -1;}#sk-container-id-3 div.sk-parallel-item {display: flex;flex-direction: column;z-index: 1;position: relative;background-color: white;}#sk-container-id-3 div.sk-parallel-item:first-child::after {align-self: flex-end;width: 50%;}#sk-container-id-3 div.sk-parallel-item:last-child::after {align-self: flex-start;width: 50%;}#sk-container-id-3 div.sk-parallel-item:only-child::after {width: 0;}#sk-container-id-3 div.sk-dashed-wrapped {border: 1px dashed gray;margin: 0 0.4em 0.5em 0.4em;box-sizing: border-box;padding-bottom: 0.4em;background-color: white;}#sk-container-id-3 div.sk-label label {font-family: monospace;font-weight: bold;display: inline-block;line-height: 1.2em;}#sk-container-id-3 div.sk-label-container {text-align: center;}#sk-container-id-3 div.sk-container {/* jupyter's `normalize.less` sets `[hidden] { display: none; }` but bootstrap.min.css set `[hidden] { display: none !important; }` so we also need the `!important` here to be able to override the default hidden behavior on the sphinx rendered scikit-learn.org. See: https://github.com/scikit-learn/scikit-learn/issues/21755 */display: inline-block !important;position: relative;}#sk-container-id-3 div.sk-text-repr-fallback {display: none;}</style><div id=\"sk-container-id-3\" class=\"sk-top-container\"><div class=\"sk-text-repr-fallback\"><pre>RandomForestClassifier()</pre><b>In a Jupyter environment, please rerun this cell to show the HTML representation or trust the notebook. <br />On GitHub, the HTML representation is unable to render, please try loading this page with nbviewer.org.</b></div><div class=\"sk-container\" hidden><div class=\"sk-item\"><div class=\"sk-estimator sk-toggleable\"><input class=\"sk-toggleable__control sk-hidden--visually\" id=\"sk-estimator-id-3\" type=\"checkbox\" checked><label for=\"sk-estimator-id-3\" class=\"sk-toggleable__label sk-toggleable__label-arrow\">RandomForestClassifier</label><div class=\"sk-toggleable__content\"><pre>RandomForestClassifier()</pre></div></div></div></div></div>"
      ],
      "text/plain": [
       "RandomForestClassifier()"
      ]
     },
     "execution_count": 75,
     "metadata": {},
     "output_type": "execute_result"
    }
   ],
   "source": [
    "rfc.fit(X_train,y_train)"
   ]
  },
  {
   "cell_type": "code",
   "execution_count": 77,
   "id": "14c0fc99-d00e-4aac-aa47-a1f26ed0f7ad",
   "metadata": {
    "tags": []
   },
   "outputs": [],
   "source": [
    "y_pred_rfc=rfc.predict(X_test)"
   ]
  },
  {
   "cell_type": "code",
   "execution_count": 79,
   "id": "5088f12c-de59-475a-84bf-d81a9d136d7d",
   "metadata": {
    "tags": []
   },
   "outputs": [
    {
     "data": {
      "text/plain": [
       "array([[12,  0],\n",
       "       [ 1,  7]], dtype=int64)"
      ]
     },
     "execution_count": 79,
     "metadata": {},
     "output_type": "execute_result"
    }
   ],
   "source": [
    "cm_rfc=confusion_matrix(y_test,y_pred_rfc)\n",
    "cm_rfc"
   ]
  },
  {
   "cell_type": "code",
   "execution_count": 81,
   "id": "b033a584-b3fc-404e-adcb-5edc08082fb2",
   "metadata": {
    "tags": []
   },
   "outputs": [
    {
     "data": {
      "text/plain": [
       "0.95"
      ]
     },
     "execution_count": 81,
     "metadata": {},
     "output_type": "execute_result"
    }
   ],
   "source": [
    "acc_rfc=accuracy_score(y_test,y_pred_rfc)\n",
    "acc_rfc"
   ]
  },
  {
   "cell_type": "code",
   "execution_count": 83,
   "id": "83aad5df-9c93-40d3-a296-a4e84ee13762",
   "metadata": {
    "tags": []
   },
   "outputs": [],
   "source": [
    "### we have a strong prediction model in RFC but I wanna look the Decision Tree Model once"
   ]
  },
  {
   "cell_type": "markdown",
   "id": "256bc02b-f9a8-4f28-a287-c192ac40d2c0",
   "metadata": {},
   "source": [
    "## Decision Tree Model"
   ]
  },
  {
   "cell_type": "code",
   "execution_count": 86,
   "id": "b0392a8c-b4a4-4ebb-ad00-3605301217b1",
   "metadata": {
    "tags": []
   },
   "outputs": [],
   "source": [
    "from sklearn.tree import DecisionTreeClassifier"
   ]
  },
  {
   "cell_type": "code",
   "execution_count": 88,
   "id": "d09abea3-9f8d-46fa-beb4-653284c49b0e",
   "metadata": {
    "tags": []
   },
   "outputs": [],
   "source": [
    "dtc=DecisionTreeClassifier()"
   ]
  },
  {
   "cell_type": "code",
   "execution_count": 90,
   "id": "8de57864-ab68-43dc-80c5-798e51eb23a9",
   "metadata": {
    "tags": []
   },
   "outputs": [
    {
     "data": {
      "text/html": [
       "<style>#sk-container-id-4 {color: black;background-color: white;}#sk-container-id-4 pre{padding: 0;}#sk-container-id-4 div.sk-toggleable {background-color: white;}#sk-container-id-4 label.sk-toggleable__label {cursor: pointer;display: block;width: 100%;margin-bottom: 0;padding: 0.3em;box-sizing: border-box;text-align: center;}#sk-container-id-4 label.sk-toggleable__label-arrow:before {content: \"▸\";float: left;margin-right: 0.25em;color: #696969;}#sk-container-id-4 label.sk-toggleable__label-arrow:hover:before {color: black;}#sk-container-id-4 div.sk-estimator:hover label.sk-toggleable__label-arrow:before {color: black;}#sk-container-id-4 div.sk-toggleable__content {max-height: 0;max-width: 0;overflow: hidden;text-align: left;background-color: #f0f8ff;}#sk-container-id-4 div.sk-toggleable__content pre {margin: 0.2em;color: black;border-radius: 0.25em;background-color: #f0f8ff;}#sk-container-id-4 input.sk-toggleable__control:checked~div.sk-toggleable__content {max-height: 200px;max-width: 100%;overflow: auto;}#sk-container-id-4 input.sk-toggleable__control:checked~label.sk-toggleable__label-arrow:before {content: \"▾\";}#sk-container-id-4 div.sk-estimator input.sk-toggleable__control:checked~label.sk-toggleable__label {background-color: #d4ebff;}#sk-container-id-4 div.sk-label input.sk-toggleable__control:checked~label.sk-toggleable__label {background-color: #d4ebff;}#sk-container-id-4 input.sk-hidden--visually {border: 0;clip: rect(1px 1px 1px 1px);clip: rect(1px, 1px, 1px, 1px);height: 1px;margin: -1px;overflow: hidden;padding: 0;position: absolute;width: 1px;}#sk-container-id-4 div.sk-estimator {font-family: monospace;background-color: #f0f8ff;border: 1px dotted black;border-radius: 0.25em;box-sizing: border-box;margin-bottom: 0.5em;}#sk-container-id-4 div.sk-estimator:hover {background-color: #d4ebff;}#sk-container-id-4 div.sk-parallel-item::after {content: \"\";width: 100%;border-bottom: 1px solid gray;flex-grow: 1;}#sk-container-id-4 div.sk-label:hover label.sk-toggleable__label {background-color: #d4ebff;}#sk-container-id-4 div.sk-serial::before {content: \"\";position: absolute;border-left: 1px solid gray;box-sizing: border-box;top: 0;bottom: 0;left: 50%;z-index: 0;}#sk-container-id-4 div.sk-serial {display: flex;flex-direction: column;align-items: center;background-color: white;padding-right: 0.2em;padding-left: 0.2em;position: relative;}#sk-container-id-4 div.sk-item {position: relative;z-index: 1;}#sk-container-id-4 div.sk-parallel {display: flex;align-items: stretch;justify-content: center;background-color: white;position: relative;}#sk-container-id-4 div.sk-item::before, #sk-container-id-4 div.sk-parallel-item::before {content: \"\";position: absolute;border-left: 1px solid gray;box-sizing: border-box;top: 0;bottom: 0;left: 50%;z-index: -1;}#sk-container-id-4 div.sk-parallel-item {display: flex;flex-direction: column;z-index: 1;position: relative;background-color: white;}#sk-container-id-4 div.sk-parallel-item:first-child::after {align-self: flex-end;width: 50%;}#sk-container-id-4 div.sk-parallel-item:last-child::after {align-self: flex-start;width: 50%;}#sk-container-id-4 div.sk-parallel-item:only-child::after {width: 0;}#sk-container-id-4 div.sk-dashed-wrapped {border: 1px dashed gray;margin: 0 0.4em 0.5em 0.4em;box-sizing: border-box;padding-bottom: 0.4em;background-color: white;}#sk-container-id-4 div.sk-label label {font-family: monospace;font-weight: bold;display: inline-block;line-height: 1.2em;}#sk-container-id-4 div.sk-label-container {text-align: center;}#sk-container-id-4 div.sk-container {/* jupyter's `normalize.less` sets `[hidden] { display: none; }` but bootstrap.min.css set `[hidden] { display: none !important; }` so we also need the `!important` here to be able to override the default hidden behavior on the sphinx rendered scikit-learn.org. See: https://github.com/scikit-learn/scikit-learn/issues/21755 */display: inline-block !important;position: relative;}#sk-container-id-4 div.sk-text-repr-fallback {display: none;}</style><div id=\"sk-container-id-4\" class=\"sk-top-container\"><div class=\"sk-text-repr-fallback\"><pre>DecisionTreeClassifier()</pre><b>In a Jupyter environment, please rerun this cell to show the HTML representation or trust the notebook. <br />On GitHub, the HTML representation is unable to render, please try loading this page with nbviewer.org.</b></div><div class=\"sk-container\" hidden><div class=\"sk-item\"><div class=\"sk-estimator sk-toggleable\"><input class=\"sk-toggleable__control sk-hidden--visually\" id=\"sk-estimator-id-4\" type=\"checkbox\" checked><label for=\"sk-estimator-id-4\" class=\"sk-toggleable__label sk-toggleable__label-arrow\">DecisionTreeClassifier</label><div class=\"sk-toggleable__content\"><pre>DecisionTreeClassifier()</pre></div></div></div></div></div>"
      ],
      "text/plain": [
       "DecisionTreeClassifier()"
      ]
     },
     "execution_count": 90,
     "metadata": {},
     "output_type": "execute_result"
    }
   ],
   "source": [
    "dtc.fit(X_train,y_train)"
   ]
  },
  {
   "cell_type": "code",
   "execution_count": 92,
   "id": "548e3fb6-2fda-4951-a1de-7fe9217f0885",
   "metadata": {
    "tags": []
   },
   "outputs": [],
   "source": [
    "y_pred_dtc=dtc.predict(X_test)"
   ]
  },
  {
   "cell_type": "code",
   "execution_count": 94,
   "id": "22d53651-fcf5-4cce-92c8-6b25821ed2eb",
   "metadata": {
    "tags": []
   },
   "outputs": [],
   "source": [
    "cm_dtc=confusion_matrix(y_test,y_pred_dtc)"
   ]
  },
  {
   "cell_type": "code",
   "execution_count": 96,
   "id": "0f2824a6-2b80-4258-854e-1c2501bc15b3",
   "metadata": {
    "tags": []
   },
   "outputs": [
    {
     "data": {
      "text/plain": [
       "array([[9, 3],\n",
       "       [1, 7]], dtype=int64)"
      ]
     },
     "execution_count": 96,
     "metadata": {},
     "output_type": "execute_result"
    }
   ],
   "source": [
    "cm_dtc"
   ]
  },
  {
   "cell_type": "code",
   "execution_count": 98,
   "id": "7cc2da60-a270-420c-8a46-ae66c8cfde96",
   "metadata": {
    "tags": []
   },
   "outputs": [
    {
     "data": {
      "text/plain": [
       "0.8"
      ]
     },
     "execution_count": 98,
     "metadata": {},
     "output_type": "execute_result"
    }
   ],
   "source": [
    "acc_dtc=accuracy_score(y_test,y_pred_dtc)\n",
    "acc_dtc"
   ]
  },
  {
   "cell_type": "markdown",
   "id": "17611578-df59-449f-a2b6-ef28561e5be0",
   "metadata": {
    "tags": []
   },
   "source": [
    "### in this dataset random forest classification model has the best prediction value. Since the database was too small, other models could not have much of an impact. If the database contained a little more data, we could expect a closer approach on other models."
   ]
  },
  {
   "cell_type": "code",
   "execution_count": null,
   "id": "0647d8ce-59f4-4e6c-950e-5028f0eb7057",
   "metadata": {},
   "outputs": [],
   "source": []
  }
 ],
 "metadata": {
  "kernelspec": {
   "display_name": "Python 3 (ipykernel)",
   "language": "python",
   "name": "python3"
  },
  "language_info": {
   "codemirror_mode": {
    "name": "ipython",
    "version": 3
   },
   "file_extension": ".py",
   "mimetype": "text/x-python",
   "name": "python",
   "nbconvert_exporter": "python",
   "pygments_lexer": "ipython3",
   "version": "3.10.9"
  }
 },
 "nbformat": 4,
 "nbformat_minor": 5
}
